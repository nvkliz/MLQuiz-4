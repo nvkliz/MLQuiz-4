{
 "cells": [
  {
   "cell_type": "markdown",
   "metadata": {},
   "source": [
    "<div class=\"image\">\n",
    "\n",
    "  <img style=\"float: right;\" src=\"https://dx5i3n065oxey.cloudfront.net/platform/4186/assets/logo.png?v=2e76f927-9482-4bfb-9092-d9a0b595cd2c\" width=\"45%\" align=\"right\">\n",
    "      <h4>\n",
    "          <p style=\"font-size:20pt\">Programming for Business Analytics</p>\n",
    "          <p style=\"font-size:15pt\">Q4 Practice 3</p>\n",
    "      </h4>\n",
    "</div>\n",
    "\n",
    "- Make sure you have executed the code in the cell below.\n",
    "- Make sure you read the questions carefully and follow the instructions.\n",
    "- Make sure you put the answers in the Answer cells.\n",
    "- Please do not put your answers in comments (after #).\n",
    "- Please do not add any new cells between the Question and Answer cells.\n",
    "- Please do not change the names of the variables in Answer cells.\n",
    "- Please do not assign the expected result directly to the variable."
   ]
  },
  {
   "cell_type": "code",
   "execution_count": null,
   "metadata": {},
   "outputs": [],
   "source": [
    "#Please make sure your Jupyter Notebook environment is running a Python 3 kernel \n",
    "import IPython\n",
    "assert IPython.version_info[0] >= 3, \"Your version of IPython is too old, please update it.\"\n",
    "%autosave 120"
   ]
  },
  {
   "cell_type": "markdown",
   "metadata": {},
   "source": [
    "<div class=\"alert alert-warning\"> \n",
    "<b>QUESTION 1:</b>\n",
    "<p> Which of the following is not a valid way to define the dictionary <code>{'U': 1, 'C': 2, 'L': 3}</code> in Python?</p>\n",
    "\n",
    "<p> a)</p>  \n",
    "    \n",
    "```python\n",
    "dictionary = {}\n",
    "dictionary['U'] = 1\n",
    "dictionary['C'] = 2\n",
    "dictionary['L'] = 3\n",
    "``` \n",
    "<p> b)</p>\n",
    "    \n",
    " ```python\n",
    "dictionary = dict([\n",
    "    ('U', 1),\n",
    "    ('C', 2),\n",
    "    ('L', 3)\n",
    "])\n",
    "``` \n",
    "<p> c)</p>\n",
    "     \n",
    "```python\n",
    "dictionary = {\n",
    "    ('U', 1),\n",
    "    ('C', 2),\n",
    "    ('L', 3)\n",
    "}\n",
    "``` \n",
    "<p> d)</p>\n",
    "    \n",
    "```python\n",
    "dictionary = {'U': 1, 'C': 2, 'L': 3}\n",
    "``` \n",
    "\n",
    "</div>"
   ]
  },
  {
   "cell_type": "code",
   "execution_count": null,
   "metadata": {},
   "outputs": [],
   "source": [
    "###ANSWER(1). Please assign the letter representing the correct answer to the variable \n",
    "### (write it down between the \"\")\n",
    "answer_1 = \"c\" "
   ]
  },
  {
   "cell_type": "code",
   "execution_count": null,
   "metadata": {},
   "outputs": [],
   "source": [
    "#Please leave this cell blank."
   ]
  },
  {
   "cell_type": "markdown",
   "metadata": {},
   "source": [
    "<div class=\"alert alert-warning\">\n",
    "<b>QUESTION 2:</b>\n",
    "<p>Two sets of flowers are defined.</p>\n",
    "    \n",
    "```python\n",
    "f1 = {'Calla Lily', 'Daisy', 'Gardenia', 'Carnation', 'Orchid'}\n",
    "f2 = {'Tulip', 'Daisy', 'Gardenia', 'Dahlia', 'Orchid'}\n",
    "```\n",
    "    \n",
    "<p>Use a set operator to find the flowers that appear in <code>f1</code> but not in <code>f2</code>, assign the result to the variable <code>flowers_in_f1</code>. Print <code>flowers_in_f1</code>, the expected output is shown below.</p>\n",
    "    \n",
    "```\n",
    "{'Carnation', 'Calla Lily'}\n",
    "```\n",
    "</div>"
   ]
  },
  {
   "cell_type": "code",
   "execution_count": null,
   "metadata": {},
   "outputs": [],
   "source": [
    "###ANSWER(2)\n",
    "f1 = {'Calla Lily', 'Daisy', 'Gardenia', 'Carnation', 'Orchid'}\n",
    "f2 = {'Tulip', 'Daisy', 'Gardenia', 'Dahlia', 'Orchid'}\n",
    "flowers_in_f1 = f1 - f2\n",
    "print(flowers_in_f1)"
   ]
  },
  {
   "cell_type": "code",
   "execution_count": null,
   "metadata": {},
   "outputs": [],
   "source": [
    "#Please leave this cell blank."
   ]
  },
  {
   "cell_type": "markdown",
   "metadata": {},
   "source": [
    "<div class=\"alert alert-warning\"> \n",
    "<b>QUESTION 3:</b> \n",
    "<p>Create a function called <code>capitalise_word</code> that takes a word as the argument. The function makes the input word's first letter a capital letter and returns the result.</p>\n",
    "<br>\n",
    "<p>Execute <code><b>capitalise_word('jess')</b></code>, the expected output is <code>'Jess'</code>.</p>\n",
    "<p>Execute <code><b>capitalise_word('abc')</b></code>, the expected output is <code>'Abc'</code>.</p>\n",
    "</div>"
   ]
  },
  {
   "cell_type": "code",
   "execution_count": 2,
   "metadata": {},
   "outputs": [
    {
     "ename": "NameError",
     "evalue": "name 'jess' is not defined",
     "output_type": "error",
     "traceback": [
      "\u001b[0;31m---------------------------------------------------------------------------\u001b[0m",
      "\u001b[0;31mNameError\u001b[0m                                 Traceback (most recent call last)",
      "\u001b[0;32m/var/folders/_4/zvrb902564972kvcq0mnj6th0000gn/T/ipykernel_7520/3176582595.py\u001b[0m in \u001b[0;36m<module>\u001b[0;34m\u001b[0m\n\u001b[1;32m      2\u001b[0m \u001b[0;32mdef\u001b[0m \u001b[0mcapitalise_word\u001b[0m\u001b[0;34m(\u001b[0m\u001b[0mword\u001b[0m\u001b[0;34m)\u001b[0m\u001b[0;34m:\u001b[0m\u001b[0;34m\u001b[0m\u001b[0;34m\u001b[0m\u001b[0m\n\u001b[1;32m      3\u001b[0m     \u001b[0;32mreturn\u001b[0m \u001b[0mword\u001b[0m\u001b[0;34m[\u001b[0m\u001b[0;36m0\u001b[0m\u001b[0;34m]\u001b[0m\u001b[0;34m.\u001b[0m\u001b[0mupper\u001b[0m\u001b[0;34m(\u001b[0m\u001b[0;34m)\u001b[0m\u001b[0;34m+\u001b[0m\u001b[0mword\u001b[0m\u001b[0;34m[\u001b[0m\u001b[0;36m1\u001b[0m\u001b[0;34m:\u001b[0m\u001b[0;34m]\u001b[0m\u001b[0;34m\u001b[0m\u001b[0;34m\u001b[0m\u001b[0m\n\u001b[0;32m----> 4\u001b[0;31m \u001b[0mcapitalise_word\u001b[0m\u001b[0;34m(\u001b[0m\u001b[0mjess\u001b[0m\u001b[0;34m)\u001b[0m\u001b[0;34m\u001b[0m\u001b[0;34m\u001b[0m\u001b[0m\n\u001b[0m",
      "\u001b[0;31mNameError\u001b[0m: name 'jess' is not defined"
     ]
    }
   ],
   "source": [
    "###ANSWER(3)\n",
    "def capitalise_word(word):\n",
    "    return word[0].upper()+word[1:]\n",
    "capitalise_word(jess)"
   ]
  },
  {
   "cell_type": "code",
   "execution_count": null,
   "metadata": {},
   "outputs": [],
   "source": [
    "#Please leave this cell blank."
   ]
  },
  {
   "cell_type": "markdown",
   "metadata": {},
   "source": [
    "<div class=\"alert alert-warning\">\n",
    "<b>QUESTION 4:</b>\n",
    "<p>A list which records today's orders of a bakery is defined. </p>\n",
    "    \n",
    "```python\n",
    "orders = [('Bagel', 20), ('Bun', 20), ('Apple strudel', 3), ('Bun', 10), ('Tart', 3),\n",
    "          ('Bagel', 10), ('Tart', 15), ('Bagel', 50)]  \n",
    "```\n",
    "\n",
    "<p>Create a dictionary that summarises the total number of orders for each item, assign the result to the variable <code>order_dict</code>. Print <code>order_dict</code>, the expected output is shown below. </p>\n",
    "\n",
    "```\n",
    "{'Bagel': 50, 'Bun': 10, 'Apple strudel': 3, 'Tart': 15}\n",
    "```\n",
    "</div>"
   ]
  },
  {
   "cell_type": "code",
   "execution_count": null,
   "metadata": {},
   "outputs": [],
   "source": [
    "###ANSWER(4).\n",
    "orders = [('Bagel', 20), ('Bun', 20), ('Apple strudel', 3), ('Bun', 10), ('Tart', 3),\n",
    "          ('Bagel', 10), ('Tart', 15), ('Bagel', 50)]\n",
    "order_dict = dict()\n",
    "for order in orders:\n",
    "    if order in order_dict:\n",
    "        order_dict[order[0]] += order[1]\n",
    "    else:\n",
    "        order_dict[order[0]]  = order[1]\n",
    "print(order_dict)"
   ]
  },
  {
   "cell_type": "code",
   "execution_count": null,
   "metadata": {},
   "outputs": [],
   "source": [
    "#Please leave this cell blank."
   ]
  },
  {
   "cell_type": "markdown",
   "metadata": {},
   "source": [
    "<div class=\"alert alert-warning\">\n",
    "<b>QUESTION 5:</b>\n",
    "<p>A dictionary of the scores for 4 modules is defined below. </p>\n",
    "    \n",
    "```python\n",
    "score = {'Programming': 90.71, 'Business': 75.94, 'Statistics': 71.27, 'Marketing': 69.56}\n",
    "```\n",
    "\n",
    "<p>Calculate the average score for all the modules, and round the result to 2 decimal places. Define a string to the variable <code>average_score</code>. The string should follow this pattern: <code>'The average score is [average_score_of_all_modules].'</code> Print <code>average_score</code>, the expected output is shown below.</p>\n",
    "    \n",
    "```\n",
    "The average score is 76.87.\n",
    "```\n",
    "\n",
    "</div>"
   ]
  },
  {
   "cell_type": "code",
   "execution_count": 3,
   "metadata": {},
   "outputs": [
    {
     "name": "stdout",
     "output_type": "stream",
     "text": [
      "The average score is 76.87.\n"
     ]
    }
   ],
   "source": [
    "###ANSWER(5). \n",
    "score = {'Programming': 90.71, 'Business': 75.94, 'Statistics': 71.27, 'Marketing': 69.56}\n",
    "average_score = 'The average score is {:.2f}.'.format(sum(score.values())/len(score))\n",
    "print(average_score)"
   ]
  },
  {
   "cell_type": "code",
   "execution_count": null,
   "metadata": {},
   "outputs": [],
   "source": [
    "#Please leave this cell blank."
   ]
  },
  {
   "cell_type": "markdown",
   "metadata": {},
   "source": [
    "<div class=\"alert alert-warning\">\n",
    "<b>QUESTION 6: </b> \n",
    "<p>A dictionary with London areas as the keys and average renting prices as the values is defined.</p>\n",
    "\n",
    "```python    \n",
    "rent_detail_london = {'Greenwich': 336, 'Stratford': 389, 'London Bridge': 589, 'Angel': 359, \n",
    "                      'Kings Cross': 467, 'Wembley': 401, 'Heathrow Airport': 238, 'Hyde Park': 429}\n",
    "``` \n",
    "    \n",
    "<p>Write <b>ONE LINE</b> of code to define a new dictionary called <code>affordable_area</code>. The keys of <code>affordable_area</code> are the <b>indices</b> of areas with average prices <b>lower than 400</b>, and the values are the <b>corresponding areas</b>. Print <code>affordable_area</code>, the expected output is shown below.</p>\n",
    "    \n",
    "```\n",
    "{0: 'Greenwich', 1: 'Stratford', 3: 'Angel', 6: 'Heathrow Airport'}\n",
    "```\n",
    "\n",
    "</div>"
   ]
  },
  {
   "cell_type": "code",
   "execution_count": 7,
   "metadata": {},
   "outputs": [
    {
     "name": "stdout",
     "output_type": "stream",
     "text": [
      "{0: 'Greenwich', 1: 'Stratford', 3: 'Angel', 6: 'Heathrow Airport'}\n"
     ]
    }
   ],
   "source": [
    "###ANSWER(6).\n",
    "rent_detail_london = {'Greenwich': 336, 'Stratford': 389, 'London Bridge': 589, 'Angel': 359, \n",
    "                      'Kings Cross': 467, 'Wembley': 401, 'Heathrow Airport': 238, 'Hyde Park': 429}\n",
    "affordable_area = {idx:value for idx, value in enumerate(rent_detail_london) if rent_detail_london[value]<400}\n",
    "print(affordable_area)"
   ]
  },
  {
   "cell_type": "code",
   "execution_count": null,
   "metadata": {},
   "outputs": [],
   "source": [
    "#Please leave this cell blank."
   ]
  },
  {
   "cell_type": "markdown",
   "metadata": {},
   "source": [
    "<div class=\"alert alert-warning\"> \n",
    "<b>QUESTION 7:</b> \n",
    "<p>Create a function called <code>special_number_checker</code> that takes a non-negative integer as the argument. The function returns the boolean value <code>True</code> if the input integer has only one digit that appears twice and others that appear only once, and returns <code>False</code> otherwise.</p>\n",
    "<br>\n",
    "<p>Execute <code><b>special_number_checker(23)</b></code>, the expected output is <code>False</code>.</p>\n",
    "<p>Execute <code><b>special_number_checker(233)</b></code>, the expected output is <code>True</code>.</p>\n",
    "<p>Execute <code><b>special_number_checker(251143)</b></code>, the expected output is <code>True</code>.</p>\n",
    "</div>"
   ]
  },
  {
   "cell_type": "code",
   "execution_count": 6,
   "metadata": {},
   "outputs": [
    {
     "data": {
      "text/plain": [
       "True"
      ]
     },
     "execution_count": 6,
     "metadata": {},
     "output_type": "execute_result"
    }
   ],
   "source": [
    "###ANSWER(7). \n",
    "def special_number_checker(x):\n",
    "    return len(str(x)) - len(set(str(x))) == 1\n",
    "special_number_checker(233)"
   ]
  },
  {
   "cell_type": "code",
   "execution_count": null,
   "metadata": {},
   "outputs": [],
   "source": [
    "#Please leave this cell blank."
   ]
  },
  {
   "cell_type": "markdown",
   "metadata": {},
   "source": [
    "<div class=\"alert alert-warning\">\n",
    "<b>QUESTION 8:</b>\n",
    "<p>A list of ten integers is defined.</p>\n",
    "    \n",
    "```python\n",
    "alist=[4, 7, 19, 5, 3, 10, 14, 27, 1, 2]\n",
    "```\n",
    "    \n",
    "<p>Create a dictionary where the keys are the integers and values are the <b>lists of divisors</b> among the numbers. Assign the dictionary to variable <code>dict_num</code>. Print <code>dict_num</code>, the expected output is shown below.</p>\n",
    "    \n",
    "```\n",
    "{4: [4, 1, 2], 7: [7, 1], 19: [19, 1], 5: [5, 1], 3: [3, 1], 10: [5, 10, 1, 2], 14: [7, 14, 1, 2], 27: [3, 27, 1], 1: [1], 2: [1, 2]}\n",
    "```\n",
    "</div>"
   ]
  },
  {
   "cell_type": "code",
   "execution_count": 9,
   "metadata": {},
   "outputs": [
    {
     "name": "stdout",
     "output_type": "stream",
     "text": [
      "{4: [4, 1, 2], 7: [7, 1], 19: [19, 1], 5: [5, 1], 3: [3, 1], 10: [5, 10, 1, 2], 14: [7, 14, 1, 2], 27: [3, 27, 1], 1: [1], 2: [1, 2], 52: [4, 1, 2, 52]}\n"
     ]
    }
   ],
   "source": [
    "###ANSWER(8). \n",
    "alist=[4, 7, 19, 5, 3, 10, 14, 27, 1, 2, 52]\n",
    "dict_num = {}\n",
    "for x in alist:\n",
    "    dict_num[x] = [i for i in alist if x%i==0]\n",
    "print(dict_num)"
   ]
  },
  {
   "cell_type": "code",
   "execution_count": null,
   "metadata": {},
   "outputs": [],
   "source": [
    "#Please leave this cell blank."
   ]
  },
  {
   "cell_type": "markdown",
   "metadata": {},
   "source": [
    "<div class=\"alert alert-warning\">\n",
    "<b>QUESTION 9:</b>  \n",
    "<p>Create a function called <code>validIP4</code> that takes a string of an IP4 address as the argument. The function returns the boolean value <code>True</code> if the IP4 address is valid, and returns <code>False</code> otherwise. A valid IP4 address has the format of <b>x.x.x.x</b>, where each x can be any integer between 0 and 255 (both inclusive).</p>\n",
    "<br>\n",
    "<p>Execute <code><b>validIP4(\"255.255.255.255\")</b></code>, the expected output is <code>True</code>.</p>\n",
    "<p>Execute <code><b>validIP4(\"1.11.0.255\")</b></code>, the expected output is <code>True</code>.</p>\n",
    "<p>Execute <code><b>validIP4(\"255.255.255.256\")</b></code>, the expected output is <code>False</code>.</p>\n",
    "<p>Execute <code><b>validIP4(\"255.255.255\")</b></code>, the expected output is <code>False</code>.</p>    \n",
    "</div>"
   ]
  },
  {
   "cell_type": "code",
   "execution_count": 13,
   "metadata": {},
   "outputs": [
    {
     "name": "stdout",
     "output_type": "stream",
     "text": [
      "True\n"
     ]
    },
    {
     "data": {
      "text/plain": [
       "True"
      ]
     },
     "execution_count": 13,
     "metadata": {},
     "output_type": "execute_result"
    }
   ],
   "source": [
    "###ANSWER(9).\n",
    "def validIP4(ip):\n",
    "    ip_numbers = [int(i) for i in ip.split(\".\")]\n",
    "    ip_numbers_is_valid = [0<=i<=255 for i in ip_numbers]\n",
    "    return all(ip_numbers_is_valid) and len(ip_numbers_is_valid) == 4\n",
    "validIP4(\"255.255.255.255\")\n"
   ]
  },
  {
   "cell_type": "code",
   "execution_count": null,
   "metadata": {},
   "outputs": [],
   "source": [
    "#Please leave this cell blank."
   ]
  },
  {
   "cell_type": "markdown",
   "metadata": {},
   "source": [
    "<div class=\"alert alert-warning\"> \n",
    "<b>QUESTION 10:</b> \n",
    "<p>Create a function called <code><b>isAnagram</b></code> which takes two strings as the arguments. The function returns the Boolean value <code>True</code> the two input strings are anagrams (same letters but in different orders, for example, <code>'abc'</code> and <code>'bca'</code>), and returns <code>False</code> otherwise. Note that exact same strings are <b>NOT</b> anagrams.</p>\n",
    "<br>\n",
    "<p>Execute <code><b>isAnagram('abc', 'bca')</b></code>, the expected output is <code>True</code>.</p>\n",
    "<p>Execute <code><b>isAnagram('xyz', 'zzy')</b></code>, the expected output is <code>False</code>.</p>\n",
    "<p>Execute <code><b>isAnagram('tea', 'teea')</b></code>, the expected output is <code>False</code>.</p>\n",
    "<p>Execute <code><b>isAnagram('otto', 'ttoo')</b></code>, the expected output is <code>True</code>.</p>\n",
    "</div>"
   ]
  },
  {
   "cell_type": "code",
   "execution_count": null,
   "metadata": {},
   "outputs": [],
   "source": [
    "###ANSWER(10)\n",
    "def isAnagram(s1, s2):\n",
    "    if len(s1) != len(s2) or s1 == s2: \n",
    "        return False\n",
    "    dict1 = {i:s1.count(i) for i in s1}\n",
    "    dict2 = {i:s2.count(i) for i in s2}\n",
    "    return dict1 == dict2"
   ]
  },
  {
   "cell_type": "code",
   "execution_count": null,
   "metadata": {},
   "outputs": [],
   "source": [
    "#Please leave this cell blank."
   ]
  }
 ],
 "metadata": {
  "kernelspec": {
   "display_name": "Python 3 (ipykernel)",
   "language": "python",
   "name": "python3"
  },
  "language_info": {
   "codemirror_mode": {
    "name": "ipython",
    "version": 3
   },
   "file_extension": ".py",
   "mimetype": "text/x-python",
   "name": "python",
   "nbconvert_exporter": "python",
   "pygments_lexer": "ipython3",
   "version": "3.9.7"
  }
 },
 "nbformat": 4,
 "nbformat_minor": 4
}
