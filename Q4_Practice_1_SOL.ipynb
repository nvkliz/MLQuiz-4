{
 "cells": [
  {
   "cell_type": "markdown",
   "metadata": {
    "nbgrader": {
     "grade": false,
     "grade_id": "cell-84196092f0c3e9f6",
     "locked": true,
     "schema_version": 3,
     "solution": false,
     "task": false
    }
   },
   "source": [
    "<div class=\"image\">\n",
    "\n",
    "  <img style=\"float: right;\" src=\"https://dx5i3n065oxey.cloudfront.net/platform/4186/assets/logo.png?v=2e76f927-9482-4bfb-9092-d9a0b595cd2c\" width=\"45%\" align=\"right\">\n",
    "      <h4>\n",
    "          <p style=\"font-size:20pt\">Programming for Business Analytics</p>\n",
    "          <p style=\"font-size:15pt\">Q4 Practice 1</p>\n",
    "      </h4>\n",
    "</div>\n",
    "\n",
    "- Make sure you have executed the code in the cell below.\n",
    "- Make sure you read the questions carefully and follow the instructions.\n",
    "- Make sure you put the answers in the Answer cells.\n",
    "- Please do not put your answers in comments (after #).\n",
    "- Please do not add any new cells between the Question and Answer cells.\n",
    "- Please do not change the names of the variables in Answer cells.\n",
    "- Please do not assign the expected result directly to the variable."
   ]
  },
  {
   "cell_type": "code",
   "execution_count": null,
   "metadata": {
    "nbgrader": {
     "grade": false,
     "grade_id": "cell-64e8e5708af9cf19",
     "locked": true,
     "schema_version": 3,
     "solution": false,
     "task": false
    }
   },
   "outputs": [],
   "source": [
    "#Please make sure your Jupyter Notebook environment is running a Python 3 kernel \n",
    "import IPython\n",
    "assert IPython.version_info[0] >= 3, \"Your version of IPython is too old, please update it.\"\n",
    "%autosave 120"
   ]
  },
  {
   "cell_type": "markdown",
   "metadata": {
    "nbgrader": {
     "grade": false,
     "grade_id": "cell-9b0c25976a159dcf",
     "locked": true,
     "schema_version": 3,
     "solution": false,
     "task": false
    }
   },
   "source": [
    "<div class=\"alert alert-warning\">\n",
    "<b>QUESTION 1:</b>\n",
    "<p>A dictionary has been defined. </p>\n",
    "    \n",
    "```python\n",
    "population = {'China':1439323775, 'India':1380004385, 'USA':331002656}\n",
    "```   \n",
    "\n",
    "<p>Calculate the average item value as <b>integer</b> from the dictionary and assign it to the variable <code>answer_1</code>. Print <code>answer_1</code>, the expected output is <code>1050110272</code>.</p>\n",
    "<br>\n",
    "<p>Please don't write <code>answer_1 = 1050110272</code></p>\n",
    "</div>"
   ]
  },
  {
   "cell_type": "code",
   "execution_count": null,
   "metadata": {
    "nbgrader": {
     "grade": false,
     "grade_id": "cell-a6408ffacf7cba92",
     "locked": false,
     "schema_version": 3,
     "solution": true,
     "task": false
    }
   },
   "outputs": [],
   "source": [
    "###ANSWER(1)\n",
    "population = {'China':1439323775, 'India':1380004385, 'USA':331002656}\n",
    "answer_1 = int(sum(population.values())/len(population))\n",
    "print(answer_1)"
   ]
  },
  {
   "cell_type": "code",
   "execution_count": null,
   "metadata": {
    "nbgrader": {
     "grade": true,
     "grade_id": "cell-65f303e196fa2c0f",
     "locked": true,
     "points": 10,
     "schema_version": 3,
     "solution": false,
     "task": false
    }
   },
   "outputs": [],
   "source": [
    "#Please leave this cell blank."
   ]
  },
  {
   "cell_type": "markdown",
   "metadata": {
    "nbgrader": {
     "grade": false,
     "grade_id": "cell-6ba6d810c65145e7",
     "locked": true,
     "schema_version": 3,
     "solution": false,
     "task": false
    }
   },
   "source": [
    "<div class=\"alert alert-warning\">\n",
    "<b>QUESTION 2:</b>\n",
    "<p>A tuple has been defined.</p>\n",
    "    \n",
    "```python\n",
    "randomID = (101, 102, 103, 104, 105, 106, 107, 108, 109, 110)\n",
    "```\n",
    "    \n",
    "<p>Complete the code in the cell below (please don't delete anything) and assign it to the variable <code>answer_2</code>. Print <code>answer_2</code>, the expected output is: <code>(103, 105, 107, 109)</code></p>\n",
    "</div>"
   ]
  },
  {
   "cell_type": "code",
   "execution_count": null,
   "metadata": {
    "nbgrader": {
     "grade": false,
     "grade_id": "cell-e408866af2c30ae8",
     "locked": false,
     "schema_version": 3,
     "solution": true,
     "task": false
    }
   },
   "outputs": [],
   "source": [
    "###ANSWER(2)\n",
    "randomID = (101, 102, 103, 104, 105, 106, 107, 108, 109, 110)\n",
    "answer_2 = randomID[2:-1:2]\n",
    "print(answer_2)"
   ]
  },
  {
   "cell_type": "code",
   "execution_count": null,
   "metadata": {
    "nbgrader": {
     "grade": true,
     "grade_id": "cell-839e1e4003488018",
     "locked": true,
     "points": 10,
     "schema_version": 3,
     "solution": false,
     "task": false
    }
   },
   "outputs": [],
   "source": [
    "#Please leave this cell blank."
   ]
  },
  {
   "cell_type": "markdown",
   "metadata": {
    "nbgrader": {
     "grade": false,
     "grade_id": "cell-3b929a56807eb73c",
     "locked": true,
     "schema_version": 3,
     "solution": false,
     "task": false
    }
   },
   "source": [
    "<div class=\"alert alert-warning\">\n",
    "<b>QUESTION 3:</b>\n",
    "<p>A list called <code>numbers</code> has been defined. </p>\n",
    "\n",
    "```python\n",
    "numbers = [1, 2, -3, 4, -5, 6, -7, -8, -9, -10]    \n",
    "```\n",
    "    \n",
    "<p>Write code to convert each element in the list to its absolute value and assign the value to the variable <code>answer_3</code>. Print <code>answer_3</code>, the expected output is: <code>[1, 2, 3, 4, 5, 6, 7, 8, 9, 10]</code>.</p>\n",
    "<br>    \n",
    "<p>Please don't write <code>answer_3 = [1, 2, 3, 4, 5, 6, 7, 8, 9, 10]</code></p>\n",
    "</div>"
   ]
  },
  {
   "cell_type": "code",
   "execution_count": null,
   "metadata": {
    "nbgrader": {
     "grade": false,
     "grade_id": "cell-d923a9117c1b5fc1",
     "locked": false,
     "schema_version": 3,
     "solution": true,
     "task": false
    }
   },
   "outputs": [],
   "source": [
    "###ANSWER(3)\n",
    "numbers = [1, 2, -3, 4, -5, 6, -7, -8, -9, -10]\n",
    "answer_3 = [abs(i) for i in numbers] \n",
    "print(answer_3)"
   ]
  },
  {
   "cell_type": "code",
   "execution_count": null,
   "metadata": {
    "nbgrader": {
     "grade": true,
     "grade_id": "cell-dd486109f59e4560",
     "locked": true,
     "points": 10,
     "schema_version": 3,
     "solution": false,
     "task": false
    }
   },
   "outputs": [],
   "source": [
    "#Please leave this cell blank."
   ]
  },
  {
   "cell_type": "markdown",
   "metadata": {
    "nbgrader": {
     "grade": false,
     "grade_id": "cell-35dcba2d1595eb29",
     "locked": true,
     "schema_version": 3,
     "solution": false,
     "task": false
    }
   },
   "source": [
    "<div class=\"alert alert-warning\">\n",
    "<b>QUESTION 4:</b>\n",
    "<p>A tuple called <code>letters</code> has been defined. </p>\n",
    "  \n",
    "```python\n",
    "letters = ('k', 'm', 'a', 'k', 'k', 'r','o', 'y', 'p', 't', 'd', 's', 'q' 'p', 'y', 'p', 'e', 'c', 'a', \n",
    "           'e', 'r', 'l', 'w', 'g', 'k', 'e', 'y', 'u', 'k', 'r', 's', 'l', 'd', 'x', 'w', 'q', 'o', \n",
    "           'f', 'k', 'c', 'k', 'u', 'j', 'p', 'r', 'j', 'r','d', 'y', 'i', 't', 'd', 'f', 'p' 'h', \n",
    "           'y','s', 'n', 'b', 'a')\n",
    "```\n",
    "    \n",
    "<p>Write code to count the number of times letter <code>k</code> appears in the tuple and assign the result to a variable called <code>answer_4</code>. Print <code>answer_4</code>, the expected output is <code>7</code>.</p>\n",
    "<br>    \n",
    "<p>Please don't write <code>answer_4 = 7</code></p>\n",
    "</div>"
   ]
  },
  {
   "cell_type": "code",
   "execution_count": null,
   "metadata": {
    "nbgrader": {
     "grade": false,
     "grade_id": "cell-6866cff53340e561",
     "locked": false,
     "schema_version": 3,
     "solution": true,
     "task": false
    }
   },
   "outputs": [],
   "source": [
    "###ANSWER(4)\n",
    "letters = ('k', 'm', 'a', 'k', 'k', 'r','o', 'y', 'p', 't', 'd', 's', 'q' 'p', 'y', 'p', 'e', 'c', 'a', \n",
    "           'e', 'r', 'l', 'w', 'g', 'k', 'e', 'y', 'u', 'k', 'r', 's', 'l', 'd', 'x', 'w', 'q', 'o', \n",
    "           'f', 'k', 'c', 'k', 'u', 'j', 'p', 'r', 'j', 'r','d', 'y', 'i', 't', 'd', 'f', 'p' 'h', \n",
    "           'y','s', 'n', 'b', 'a')\n",
    "answer_4 = letters.count('k')\n",
    "print(answer_4)"
   ]
  },
  {
   "cell_type": "code",
   "execution_count": null,
   "metadata": {
    "nbgrader": {
     "grade": true,
     "grade_id": "cell-d4ac964a97b3192f",
     "locked": true,
     "points": 10,
     "schema_version": 3,
     "solution": false,
     "task": false
    }
   },
   "outputs": [],
   "source": [
    "#Please leave this cell blank."
   ]
  },
  {
   "cell_type": "markdown",
   "metadata": {
    "nbgrader": {
     "grade": false,
     "grade_id": "cell-be587cee1f4fa943",
     "locked": true,
     "schema_version": 3,
     "solution": false,
     "task": false
    }
   },
   "source": [
    "<div class=\"alert alert-warning\">\n",
    "<b>QUESTION 5: </b> \n",
    "<p>A string called <code>random_str</code> has been defined. </p>\n",
    "    \n",
    "```python\n",
    "random_str = 'number,one, London,  university   '\n",
    "```\n",
    "\n",
    "<p>Write code to delete all the white spaces in the string and assign the value to the variable <code>answer_5</code>. Print <code>answer_5</code>, the expected output is: <code>number,one,London,university</code>.</p>\n",
    "<br>    \n",
    "<p>Please don't write <code>answer_5 = 'number,one,London,university'</code></p>\n",
    "</div>"
   ]
  },
  {
   "cell_type": "code",
   "execution_count": 1,
   "metadata": {
    "nbgrader": {
     "grade": false,
     "grade_id": "cell-c9f7c06cf529bb59",
     "locked": false,
     "schema_version": 3,
     "solution": true,
     "task": false
    }
   },
   "outputs": [
    {
     "name": "stdout",
     "output_type": "stream",
     "text": [
      "number,one,London,university\n"
     ]
    }
   ],
   "source": [
    "###ANSWER(5)\n",
    "random_str = 'number,one, London,  university   '\n",
    "answer_5 = ''.join(random_str.split())\n",
    "print(answer_5)"
   ]
  },
  {
   "cell_type": "code",
   "execution_count": null,
   "metadata": {
    "nbgrader": {
     "grade": true,
     "grade_id": "cell-03398ec7d80e0f18",
     "locked": true,
     "points": 10,
     "schema_version": 3,
     "solution": false,
     "task": false
    }
   },
   "outputs": [],
   "source": [
    "#Please leave this cell blank."
   ]
  },
  {
   "cell_type": "markdown",
   "metadata": {
    "nbgrader": {
     "grade": false,
     "grade_id": "cell-f85a93cef0f6b09f",
     "locked": true,
     "schema_version": 3,
     "solution": false,
     "task": false
    }
   },
   "source": [
    "<div class=\"alert alert-warning\">\n",
    "<b>QUESTION 6: </b> \n",
    "<p> Define a function called <code>idx_min_max</code> which takes a list with numbers or a tuple with numbers as the argument. The function will <b>return</b> a tuple which contains indices of maximum and minimum values from the input list/tuple.</p>\n",
    "<br>\n",
    "<p>Execute <code><b>idx_min_max([0, 4, 52, 1])</b></code>, the expected output is <code>(2, 0)</code>.</p>\n",
    "<p>Execute <code><b>idx_min_max((-4, 1, 2.0, -9))</b></code>, the expected output is <code>(2, 3)</code>.</p>\n",
    "</div>"
   ]
  },
  {
   "cell_type": "code",
   "execution_count": 2,
   "metadata": {
    "nbgrader": {
     "grade": false,
     "grade_id": "cell-f1b06b79c66c2f2e",
     "locked": false,
     "schema_version": 3,
     "solution": true,
     "task": false
    }
   },
   "outputs": [
    {
     "data": {
      "text/plain": [
       "(2, 0)"
      ]
     },
     "execution_count": 2,
     "metadata": {},
     "output_type": "execute_result"
    }
   ],
   "source": [
    "###ANSWER(6)\n",
    "def idx_min_max(list_tuple):\n",
    "    return list_tuple.index(max(list_tuple)), list_tuple.index(min(list_tuple))\n",
    "idx_min_max([0, 4, 52, 1])"
   ]
  },
  {
   "cell_type": "code",
   "execution_count": null,
   "metadata": {
    "nbgrader": {
     "grade": true,
     "grade_id": "cell-82e069ee59f55ca9",
     "locked": true,
     "points": 10,
     "schema_version": 3,
     "solution": false,
     "task": false
    }
   },
   "outputs": [],
   "source": [
    "#Please leave this cell blank."
   ]
  },
  {
   "cell_type": "markdown",
   "metadata": {
    "nbgrader": {
     "grade": false,
     "grade_id": "cell-dffc1a05550125f1",
     "locked": true,
     "schema_version": 3,
     "solution": false,
     "task": false
    }
   },
   "source": [
    "<div class=\"alert alert-warning\">\n",
    "<b>QUESTION 7: </b> \n",
    "    <p>A dictionary called <code>Names</code> has been defined. </p>\n",
    "\n",
    "```python\n",
    "Names = {'Robert':'Lewandowski', 'Cristiano':'Ronaldo', 'Lionel':'Messi', 'Kylian':'Mbappe', 'Bruno':'Fernandes'}    \n",
    "```\n",
    "    \n",
    "    \n",
    "<p>Write code to switch keys and values of the dictionary and assign the value to the variable <code>answer_7</code>. Print <code>answer_7</code>, the expected output is shown as below.</p>\n",
    "\n",
    "```\n",
    "{'Lewandowski': 'Robert', 'Ronaldo': 'Cristiano', 'Messi': 'Lionel', 'Mbappe': 'Kylian', 'Fernandes': 'Bruno'} \n",
    "```\n",
    "<br>    \n",
    "<p>Please don't write <code>answer_7 = {'Lewandowski': 'Robert', 'Ronaldo': 'Cristiano', 'Messi': 'Lionel', 'Mbappe': 'Kylian', 'Fernandes': 'Bruno'}</code>.</p>\n",
    "</div>"
   ]
  },
  {
   "cell_type": "code",
   "execution_count": null,
   "metadata": {
    "nbgrader": {
     "grade": false,
     "grade_id": "cell-cd36c1c9bb68b230",
     "locked": false,
     "schema_version": 3,
     "solution": true,
     "task": false
    }
   },
   "outputs": [],
   "source": [
    "###ANSWER(7)\n",
    "Names = {'Robert':'Lewandowski', 'Cristiano':'Ronaldo', 'Lionel':'Messi', 'Kylian':'Mbappe', 'Bruno':'Fernandes'}\n",
    "answer_7 = {Names[k]:k for k in Names}\n",
    "print(answer_7)"
   ]
  },
  {
   "cell_type": "code",
   "execution_count": null,
   "metadata": {
    "nbgrader": {
     "grade": true,
     "grade_id": "cell-68b1c8860e2e7d46",
     "locked": true,
     "points": 10,
     "schema_version": 3,
     "solution": false,
     "task": false
    }
   },
   "outputs": [],
   "source": [
    "#Please leave this cell blank."
   ]
  },
  {
   "cell_type": "markdown",
   "metadata": {
    "nbgrader": {
     "grade": false,
     "grade_id": "cell-5bdf06877a331dbd",
     "locked": true,
     "schema_version": 3,
     "solution": false,
     "task": false
    }
   },
   "source": [
    "<div class=\"alert alert-warning\">\n",
    "<b>QUESTION 8: </b> \n",
    "<p>A dictionary called <code>Shares</code> has been defined. </p>\n",
    "    \n",
    "```python\n",
    "Shares = {'James':2359, 'Robert':4032, 'Nicolas':1020, 'Louis':2500, 'Bernard': 5538, 'Logan':1330}    \n",
    "```\n",
    "        \n",
    "<p>For the dictionary keys end with letter <code>s</code>, update the corresponding dictionary values to <code>2022</code> and assign the value to the variable <code>answer_8</code>. Print <code>answer_8</code>, the expected output is shown as below.</p>\n",
    "    \n",
    "```\n",
    "{'James': 2022, 'Robert': 4032, 'Nicolas': 2022, 'Louis': 2022, 'Bernard': 5538, 'Logan': 1330}\n",
    "```\n",
    "<br>    \n",
    "<p>Please don't write <code>answer_8 = {'James': 2022, 'Robert': 4032, 'Nicolas': 2022, 'Louis': 2022, 'Bernard': 5538, 'Logan': 1330}</code>.</p>\n",
    "</div>"
   ]
  },
  {
   "cell_type": "code",
   "execution_count": null,
   "metadata": {
    "nbgrader": {
     "grade": false,
     "grade_id": "cell-08c4dee2fc221571",
     "locked": false,
     "schema_version": 3,
     "solution": true,
     "task": false
    }
   },
   "outputs": [],
   "source": [
    "###ANSWER(8)\n",
    "Shares = {'James':2359, 'Robert':4032, 'Nicolas':1020, 'Louis':2500, 'Bernard': 5538, 'Logan':1330}\n",
    "answer_8 = {k:(2022 if k.endswith('s') else v) for k,v in Shares.items()}\n",
    "print(answer_8)"
   ]
  },
  {
   "cell_type": "code",
   "execution_count": null,
   "metadata": {
    "nbgrader": {
     "grade": true,
     "grade_id": "cell-5febe8d0332ae08c",
     "locked": true,
     "points": 10,
     "schema_version": 3,
     "solution": false,
     "task": false
    }
   },
   "outputs": [],
   "source": [
    "#Please leave this cell blank."
   ]
  },
  {
   "cell_type": "markdown",
   "metadata": {
    "nbgrader": {
     "grade": false,
     "grade_id": "cell-83da49b782f1efaa",
     "locked": true,
     "schema_version": 3,
     "solution": false,
     "task": false
    }
   },
   "source": [
    "<div class=\"alert alert-warning\">\n",
    "<b>QUESTION 9: </b> \n",
    "<p> Define a function called <code>dict_dtype_check</code> which takes a dictionary as the argument. The function will <b>return</b>:</p>\n",
    "<p>- <code>0</code> if all values in the dictionary are <b>Integers</b>;</p>\n",
    "<p>- <code>1</code> if all values are <b>Strings</b>;</p>\n",
    "<p>- <code>2</code> otherwise.</p>\n",
    "<br>\n",
    "<p>Execute <code><b>dict_dtype_check({'a': 1, 'b': 2, 'c': 3})</b></code>, the expected output is <code>0</code>.</p>\n",
    "<p>Execute <code><b>dict_dtype_check({'a': '1', 'b': '2', 'c': '3'})</b></code>, the expected output is <code>1</code>.</p>\n",
    "<p>Execute <code><b>dict_dtype_check({'a': 1, 'b': '2', 'c': 3})</b></code>, the expected output is <code>2</code>.</p>\n",
    "</div>"
   ]
  },
  {
   "cell_type": "code",
   "execution_count": null,
   "metadata": {
    "nbgrader": {
     "grade": false,
     "grade_id": "cell-d5ec26d58149123f",
     "locked": false,
     "schema_version": 3,
     "solution": true,
     "task": false
    }
   },
   "outputs": [],
   "source": [
    "###ANSWER(9)\n",
    "# Please write your code here.\n",
    "def dict_dtype_check(dict_input):\n",
    "    if all([isinstance(i, int) for i in dict_input.values()]):\n",
    "        return 0\n",
    "    elif all([isinstance(i, str) for i in dict_input.values()]):\n",
    "        return 1\n",
    "    else:\n",
    "        return 2"
   ]
  },
  {
   "cell_type": "code",
   "execution_count": null,
   "metadata": {
    "nbgrader": {
     "grade": true,
     "grade_id": "cell-3f08e6296e9e4a93",
     "locked": true,
     "points": 10,
     "schema_version": 3,
     "solution": false,
     "task": false
    }
   },
   "outputs": [],
   "source": [
    "#Please leave this cell blank."
   ]
  },
  {
   "cell_type": "markdown",
   "metadata": {
    "nbgrader": {
     "grade": false,
     "grade_id": "cell-e0138d3c7d389f56",
     "locked": true,
     "schema_version": 3,
     "solution": false,
     "task": false
    }
   },
   "source": [
    "<div class=\"alert alert-warning\">\n",
    "<b>QUESTION 10: </b> \n",
    "<p>A dictionary called <code>data_shares</code> has been defined. </p>\n",
    "    \n",
    "```python\n",
    "data_shares = {\"Jake\":2359, \"Terry\":4032, \"Rosa\":5538, \"Amy\":3200, \"Charles\":7239, \"Gina\":2007}   \n",
    "```\n",
    "    \n",
    "<p>The keys in the dictionary are the names of shareholders of a company and values are the numbers of shares (in thousands) they hold.</p>\n",
    "<p>Write a function called <code>share_check</code> which takes a string (shareholder's name) as the argument. The function will calculate the percentage of shares (rounded to <b>the second decimal</b>) for the shareholder and <b>print</b> a string which is formatted as below:</p>\n",
    "<p><code>The percetage of shares that NAME holds is PERCENTAGE_OF_SHARES%.</code></p>\n",
    "<p>If the function is called with the name of person that is not a shareholder, it would <b>print</b>:</p>\n",
    "<p><code>This person is not a shareholder.</code></p>\n",
    "<br>\n",
    "<p>Execute <code><b>share_check('Jake')</b></code>, it would print <code>The percetage of shares that Jake holds is 9.68%.</code></p>\n",
    "<p>Execute <code><b>share_check('Gina')</b></code>, it would print <code>The percetage of shares that Gina holds is 8.23%.</code></p>\n",
    "<p>Execute <code><b>share_check('Mahatma')</b></code>, it would print <code>This person is not a shareholder.</code></p>\n",
    "</div>"
   ]
  },
  {
   "cell_type": "code",
   "execution_count": null,
   "metadata": {
    "nbgrader": {
     "grade": false,
     "grade_id": "cell-6c31a3da7983e0bb",
     "locked": false,
     "schema_version": 3,
     "solution": true,
     "task": false
    }
   },
   "outputs": [],
   "source": [
    "###ANSWER(10)\n",
    "data_shares = {\"Jake\":2359, \"Terry\":4032, \"Rosa\":5538, \"Amy\":3200, \"Charles\":7239, \"Gina\":2007}\n",
    "def share_check(name):\n",
    "    if name not in data_shares.keys():\n",
    "        print('This person is not a shareholder.')\n",
    "    else:\n",
    "        print('The percetage of shares that {} holds is {:.2f}%.'.format(\n",
    "            name, data_shares[name]/sum(data_shares.values())*100))"
   ]
  },
  {
   "cell_type": "code",
   "execution_count": null,
   "metadata": {
    "nbgrader": {
     "grade": true,
     "grade_id": "cell-1c7562fd68ec3725",
     "locked": true,
     "points": 10,
     "schema_version": 3,
     "solution": false,
     "task": false
    }
   },
   "outputs": [],
   "source": [
    "#Please leave this cell blank."
   ]
  }
 ],
 "metadata": {
  "kernelspec": {
   "display_name": "Python 3 (ipykernel)",
   "language": "python",
   "name": "python3"
  },
  "language_info": {
   "codemirror_mode": {
    "name": "ipython",
    "version": 3
   },
   "file_extension": ".py",
   "mimetype": "text/x-python",
   "name": "python",
   "nbconvert_exporter": "python",
   "pygments_lexer": "ipython3",
   "version": "3.9.7"
  }
 },
 "nbformat": 4,
 "nbformat_minor": 4
}
