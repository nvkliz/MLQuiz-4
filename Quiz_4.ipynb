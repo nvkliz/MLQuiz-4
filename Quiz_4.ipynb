{
 "cells": [
  {
   "cell_type": "markdown",
   "metadata": {
    "deletable": false,
    "editable": false,
    "nbgrader": {
     "cell_type": "markdown",
     "checksum": "fb90de02942e6f796f59b6cf1c3b9ad3",
     "grade": false,
     "grade_id": "cell-33dcebb63e1d2f6c",
     "locked": true,
     "schema_version": 3,
     "solution": false,
     "task": false
    }
   },
   "source": [
    "<div class=\"image\">\n",
    "\n",
    "  <img style=\"float: right;\" src=\"https://dx5i3n065oxey.cloudfront.net/platform/4186/assets/logo.png?v=2e76f927-9482-4bfb-9092-d9a0b595cd2c\" width=\"45%\" align=\"right\">\n",
    "      <h4>\n",
    "          <p style=\"font-size:20pt\">Programming for Business Analytics</p>\n",
    "          <p style=\"font-size:15pt\">Quiz 4</p>\n",
    "      </h4>\n",
    "</div>\n",
    "\n",
    "- Make sure you have executed the code in the cell below.\n",
    "- Make sure you read the questions carefully and follow the instructions.\n",
    "- Make sure you put the answers in the Answer cells.\n",
    "- Please do not put your answers in comments (after #).\n",
    "- Please do not add any new cells between the Question and Answer cells.\n",
    "- Please do not change the names of the variables in Answer cells.\n",
    "- Please do not assign the expected result directly to the variable.\n",
    "- Please do not change the pre-defined variables."
   ]
  },
  {
   "cell_type": "code",
   "execution_count": 1,
   "metadata": {
    "deletable": false,
    "editable": false,
    "nbgrader": {
     "cell_type": "code",
     "checksum": "c5e488fd62116df28aed0140c0e2720a",
     "grade": false,
     "grade_id": "cell-a75d8caaba230c90",
     "locked": true,
     "schema_version": 3,
     "solution": false,
     "task": false
    }
   },
   "outputs": [
    {
     "data": {
      "application/javascript": [
       "IPython.notebook.set_autosave_interval(120000)"
      ]
     },
     "metadata": {},
     "output_type": "display_data"
    },
    {
     "name": "stdout",
     "output_type": "stream",
     "text": [
      "Autosaving every 120 seconds\n"
     ]
    }
   ],
   "source": [
    "#Please make sure your Jupyter Notebook environment is running a Python 3 kernel \n",
    "import IPython\n",
    "assert IPython.version_info[0] >= 3, \"Your version of IPython is too old, please update it.\"\n",
    "%autosave 120"
   ]
  },
  {
   "cell_type": "markdown",
   "metadata": {
    "deletable": false,
    "editable": false,
    "nbgrader": {
     "cell_type": "markdown",
     "checksum": "fec6860698967bbde9fbf710292be97c",
     "grade": false,
     "grade_id": "cell-7bbefc01aaaf4f68",
     "locked": true,
     "schema_version": 3,
     "solution": false,
     "task": false
    }
   },
   "source": [
    "<div class=\"alert alert-warning\"> \n",
    "<b>QUESTION 1:</b>\n",
    "<p> Which one of the following is not a valid <b>dictionary key</b>?</p>\n",
    "\n",
    "<p> a)</p>  \n",
    "    \n",
    "```python\n",
    "('ba', 'fin', 'mgt')\n",
    "``` \n",
    "<p> b)</p>\n",
    "    \n",
    "```python\n",
    "False\n",
    "``` \n",
    "<p> c)</p>\n",
    "     \n",
    "```python\n",
    "['ba', 'fin', 'mgt']\n",
    "``` \n",
    "<p> d)</p>\n",
    "    \n",
    "```python\n",
    "'python'\n",
    "``` \n",
    "    \n",
    "</div>"
   ]
  },
  {
   "cell_type": "code",
   "execution_count": null,
   "metadata": {
    "deletable": false,
    "nbgrader": {
     "cell_type": "code",
     "checksum": "f2069dba2ae6182cd5473adf4d55284b",
     "grade": false,
     "grade_id": "cell-09976279fe37011c",
     "locked": false,
     "schema_version": 3,
     "solution": true,
     "task": false
    }
   },
   "outputs": [],
   "source": [
    "###ANSWER(1). Please assign the letter representing the correct answer to the variable \n",
    "### (write it down between the \"\")\n",
    "answer_1 = \"\"  # YOUR ANSWER SHOULD BE BETWEEN \"\""
   ]
  },
  {
   "cell_type": "code",
   "execution_count": null,
   "metadata": {
    "deletable": false,
    "editable": false,
    "nbgrader": {
     "cell_type": "code",
     "checksum": "d727731d37dec7d4482668d2ba368651",
     "grade": true,
     "grade_id": "cell-1dc5fd2159470cec",
     "locked": true,
     "points": 10,
     "schema_version": 3,
     "solution": false,
     "task": false
    }
   },
   "outputs": [],
   "source": [
    "#Please leave this cell blank."
   ]
  },
  {
   "cell_type": "markdown",
   "metadata": {
    "deletable": false,
    "editable": false,
    "nbgrader": {
     "cell_type": "markdown",
     "checksum": "feaf10170633878ad39ea0059b345ab1",
     "grade": false,
     "grade_id": "cell-5b190377467c64d1",
     "locked": true,
     "schema_version": 3,
     "solution": false,
     "task": false
    }
   },
   "source": [
    "<div class=\"alert alert-warning\">\n",
    "<b>QUESTION 2:</b>\n",
    "<p>Two lists <code>list_1</code> and <code>list_2</code> are defined.</p>\n",
    "    \n",
    "```python\n",
    "list_1 = [156, 167, 201, 82]\n",
    "list_2 = ['ba', 'fin', 'mgt','enp']\n",
    "```\n",
    "    \n",
    "<p>Write <b>ONE</b> line of code to create a dictionary called <code>result_dict</code> where the keys are from <code>list_2</code> and values are from <code>list_1</code>. Print <code>result_dict</code>, the expected output is shown below.</p>\n",
    "    \n",
    "```\n",
    "{'ba': 156, 'fin': 167, 'mgt': 201, 'enp': 82}\n",
    "```\n",
    "    \n",
    "</div>"
   ]
  },
  {
   "cell_type": "code",
   "execution_count": 3,
   "metadata": {
    "deletable": false,
    "nbgrader": {
     "cell_type": "code",
     "checksum": "4ade2e76abdcd03c4035c8b117ef35ed",
     "grade": false,
     "grade_id": "cell-b3d69cb84004598b",
     "locked": false,
     "schema_version": 3,
     "solution": true,
     "task": false
    }
   },
   "outputs": [
    {
     "name": "stdout",
     "output_type": "stream",
     "text": [
      "{'ba': 156, 'fin': 167, 'mgt': 201, 'enp': 82}\n"
     ]
    }
   ],
   "source": [
    "###ANSWER(2). \n",
    "list_1 = [156, 167, 201, 82]\n",
    "list_2 = ['ba', 'fin', 'mgt','enp']\n",
    "result_dict = dict(zip(list_2,list_1))  # Write your code here.\n",
    "print(result_dict)"
   ]
  },
  {
   "cell_type": "code",
   "execution_count": null,
   "metadata": {
    "deletable": false,
    "editable": false,
    "nbgrader": {
     "cell_type": "code",
     "checksum": "e5d51aeeac0e59d9375d0340728c9ebe",
     "grade": true,
     "grade_id": "cell-479b5c27e1e57d81",
     "locked": true,
     "points": 10,
     "schema_version": 3,
     "solution": false,
     "task": false
    }
   },
   "outputs": [],
   "source": [
    "#Please leave this cell blank."
   ]
  },
  {
   "cell_type": "markdown",
   "metadata": {
    "deletable": false,
    "editable": false,
    "nbgrader": {
     "cell_type": "markdown",
     "checksum": "50af1f620adfd21688df134291f3d8b2",
     "grade": false,
     "grade_id": "cell-e05c71bd48bd65e0",
     "locked": true,
     "schema_version": 3,
     "solution": false,
     "task": false
    }
   },
   "source": [
    "<div class=\"alert alert-warning\">\n",
    "<b>QUESTION 3:</b>\n",
    "<p>A list of UK GDP growth rates from 2017 to 2022 (predicted) is defined.</p>\n",
    "    \n",
    "```python\n",
    "gdp_uk = [2.13, 1.65, 1.67, -9.27, 7.44, 3.75]\n",
    "```\n",
    "    \n",
    "<p>Use the built-in <code>enumerate</code> function to define a list of tuples called <code>gdp_uk_year</code> where the first element in each tuple is the year and the second element is the corresponding GDP growth rate. Print  <code>gdp_uk_year</code>, the expected output is shown below.</p>\n",
    " \n",
    "```\n",
    "[(2017, 2.13), (2018, 1.65), (2019, 1.67), (2020, -9.27), (2021, 7.44), (2022, 3.75)]\n",
    "```\n",
    "</div>"
   ]
  },
  {
   "cell_type": "code",
   "execution_count": 12,
   "metadata": {
    "deletable": false,
    "nbgrader": {
     "cell_type": "code",
     "checksum": "9606bf33a92daf7df4f662959f7c6c69",
     "grade": false,
     "grade_id": "cell-4364713d933044fb",
     "locked": false,
     "schema_version": 3,
     "solution": true,
     "task": false
    }
   },
   "outputs": [
    {
     "name": "stdout",
     "output_type": "stream",
     "text": [
      "(2017, 2.13)\n",
      "(2018, 1.65)\n",
      "(2019, 1.67)\n",
      "(2020, -9.27)\n",
      "(2021, 7.44)\n",
      "(2022, 3.75)\n"
     ]
    }
   ],
   "source": [
    "###ANSWER(3).\n",
    "gdp_uk = [2.13, 1.65, 1.67, -9.27, 7.44, 3.75]\n",
    "# Write your code here.\n",
    "for gdp_uk_year in enumerate(gdp_uk,2017):\n",
    "    print(gdp_uk_year)"
   ]
  },
  {
   "cell_type": "code",
   "execution_count": null,
   "metadata": {
    "deletable": false,
    "editable": false,
    "nbgrader": {
     "cell_type": "code",
     "checksum": "75ec63d78ab0b3d1b43e1d8a50d49031",
     "grade": true,
     "grade_id": "cell-c76d3dfc3078d700",
     "locked": true,
     "points": 10,
     "schema_version": 3,
     "solution": false,
     "task": false
    }
   },
   "outputs": [],
   "source": [
    "#Please leave this cell blank."
   ]
  },
  {
   "cell_type": "markdown",
   "metadata": {
    "deletable": false,
    "editable": false,
    "nbgrader": {
     "cell_type": "markdown",
     "checksum": "ab12988937c544079be3c304666463f8",
     "grade": false,
     "grade_id": "cell-90f0f43099269b7e",
     "locked": true,
     "schema_version": 3,
     "solution": false,
     "task": false
    }
   },
   "source": [
    "<div class=\"alert alert-warning\">\n",
    "<b>QUESTION 4:</b>\n",
    "<p>Two lists of flowers are defined.</p>\n",
    "    \n",
    "```python\n",
    "f1 = ['Calla Lily', 'Daisy', 'Gardenia', 'Carnation', 'Orchid']\n",
    "f2 = ['Tulip', 'Daisy', 'Gardenia', 'Dahlia', 'Orchid']\n",
    "```\n",
    "    \n",
    "<p>Create a new list called <code>flowers_in_f1_f2</code> which contains the flowers that appear in <code>f1</code> <b>only</b> or in <code>f2</code> <b>only</b>. Sort the elements in <code>flowers_in_f1_f2</code> in alphabetical order. Print <code>flowers_in_f1_f2</code>, the expected output is shown below.  </p>\n",
    "    \n",
    "```\n",
    "['Calla Lily', 'Carnation', 'Dahlia', 'Tulip']\n",
    "```\n",
    "    \n",
    "</div>"
   ]
  },
  {
   "cell_type": "code",
   "execution_count": 10,
   "metadata": {
    "deletable": false,
    "nbgrader": {
     "cell_type": "code",
     "checksum": "020dfb0d3a677e95b42f97e514cf699f",
     "grade": false,
     "grade_id": "cell-45f2277667d6a98f",
     "locked": false,
     "schema_version": 3,
     "solution": true,
     "task": false
    }
   },
   "outputs": [
    {
     "name": "stdout",
     "output_type": "stream",
     "text": [
      "{'Carnation', 'Calla Lily'}\n"
     ]
    }
   ],
   "source": [
    "###ANSWER(4).\n",
    "f1 = ['Calla Lily', 'Daisy', 'Gardenia', 'Carnation', 'Orchid']\n",
    "f2 = ['Tulip', 'Daisy', 'Gardenia', 'Dahlia', 'Orchid']\n",
    "# Write your code here.\n",
    "flowers_in_f1_f2 = set(f1) - set(f2)\n",
    "print(flowers_in_f1_f2)"
   ]
  },
  {
   "cell_type": "code",
   "execution_count": null,
   "metadata": {
    "deletable": false,
    "editable": false,
    "nbgrader": {
     "cell_type": "code",
     "checksum": "22157fcd1120992d8efb15935909d1b6",
     "grade": true,
     "grade_id": "cell-472cfcdc3d7dc198",
     "locked": true,
     "points": 10,
     "schema_version": 3,
     "solution": false,
     "task": false
    }
   },
   "outputs": [],
   "source": [
    "#Please leave this cell blank."
   ]
  },
  {
   "cell_type": "markdown",
   "metadata": {
    "deletable": false,
    "editable": false,
    "nbgrader": {
     "cell_type": "markdown",
     "checksum": "c8382fc78a7d48edc8f5f4671fb4b752",
     "grade": false,
     "grade_id": "cell-a3499a5e81baa525",
     "locked": true,
     "schema_version": 3,
     "solution": false,
     "task": false
    }
   },
   "source": [
    "<div class=\"alert alert-warning\">\n",
    "<b>QUESTION 5:</b>\n",
    "<p>The code below is incomplete.</p>\n",
    "\n",
    "```python\n",
    "num_sample = [143, 199, 285] # Number of data points in each of 3 samples\n",
    "msg = \"{num_sample[0]/num_sample}% of data points come from the first sample.\"\n",
    "print(msg)\n",
    "```  \n",
    "<p>Complete the code so that when executing it, the output is: <code>22.81% of data points come from the first sample.</code>.</p>\n",
    "<p><b>DO NOT</b> delete any code that's given.</p>\n",
    "</div>"
   ]
  },
  {
   "cell_type": "code",
   "execution_count": 15,
   "metadata": {
    "deletable": false,
    "nbgrader": {
     "cell_type": "code",
     "checksum": "3351e50c05287d66eab3e23701f098f2",
     "grade": false,
     "grade_id": "cell-3a7d1c48e133db71",
     "locked": false,
     "schema_version": 3,
     "solution": true,
     "task": false
    }
   },
   "outputs": [
    {
     "name": "stdout",
     "output_type": "stream",
     "text": [
      "22.81% of data points come from the first sample.\n"
     ]
    }
   ],
   "source": [
    "###ANSWER(5).\n",
    "# Complete the code below\n",
    "num_sample = [143, 199, 285] # Number of data points in each of 3 samples\n",
    "msg = f\"{round(num_sample[0]/sum(num_sample) * 100, 2)}% of data points come from the first sample.\"\n",
    "print(msg)"
   ]
  },
  {
   "cell_type": "code",
   "execution_count": null,
   "metadata": {
    "deletable": false,
    "editable": false,
    "nbgrader": {
     "cell_type": "code",
     "checksum": "fac26527f173eac4b036fee24eb8835d",
     "grade": true,
     "grade_id": "cell-0a0001094bf372db",
     "locked": true,
     "points": 10,
     "schema_version": 3,
     "solution": false,
     "task": false
    }
   },
   "outputs": [],
   "source": [
    "#Please leave this cell blank."
   ]
  },
  {
   "cell_type": "markdown",
   "metadata": {
    "deletable": false,
    "editable": false,
    "nbgrader": {
     "cell_type": "markdown",
     "checksum": "efbebfe5691308dc0a9dbf84c7824ac6",
     "grade": false,
     "grade_id": "cell-bd530b660f3e793f",
     "locked": true,
     "schema_version": 3,
     "solution": false,
     "task": false
    }
   },
   "source": [
    "<div class=\"alert alert-warning\">\n",
    "<b>QUESTION 6:</b>\n",
    "<p>A list has been defined.</p>\n",
    "\n",
    "```python\n",
    "warehouse_info = [\"id-aaeqb\", \"id-nmbse\", \"bike\", \"id-eacce\", \"car\", \"rocket\", \"id-xssetq\"]\n",
    "```  \n",
    "<p>Write <b>ONE LINE</b> of code to covert the strings that start with <code>\"id\"</code> to upper case letters. Print <code>warehouse_info</code>, the expected output is shown below.</p>\n",
    "    \n",
    "```\n",
    "['ID-AAEQB', 'ID-NMBSE', 'bike', 'ID-EACCE', 'car', 'rocket', 'ID-XSSETQ']\n",
    "```\n",
    "</div>"
   ]
  },
  {
   "cell_type": "code",
   "execution_count": 13,
   "metadata": {
    "deletable": false,
    "nbgrader": {
     "cell_type": "code",
     "checksum": "5b0d80e07f71fcd6080d8bb4d31ebb41",
     "grade": false,
     "grade_id": "cell-442ee7e871b248b8",
     "locked": false,
     "schema_version": 3,
     "solution": true,
     "task": false
    }
   },
   "outputs": [
    {
     "name": "stdout",
     "output_type": "stream",
     "text": [
      "['ID-AAEQB', 'ID-NMBSE', 'bike', 'ID-EACCE', 'car', 'rocket', 'ID-XSSETQ']\n"
     ]
    }
   ],
   "source": [
    "###ANSWER(6).\n",
    "warehouse_info = [\"id-aaeqb\", \"id-nmbse\", \"bike\", \"id-eacce\", \"car\", \"rocket\", \"id-xssetq\"]\n",
    "warehouse_info = [i.upper() if 'id' in i.lower() else i for i in warehouse_info]  # Write your code here.\n",
    "print(warehouse_info)"
   ]
  },
  {
   "cell_type": "code",
   "execution_count": null,
   "metadata": {
    "deletable": false,
    "editable": false,
    "nbgrader": {
     "cell_type": "code",
     "checksum": "baf8622731c9f5a545fe49bce92c74ae",
     "grade": true,
     "grade_id": "cell-c7860332e0a28608",
     "locked": true,
     "points": 10,
     "schema_version": 3,
     "solution": false,
     "task": false
    }
   },
   "outputs": [],
   "source": [
    "#Please leave this cell blank."
   ]
  },
  {
   "cell_type": "markdown",
   "metadata": {
    "deletable": false,
    "editable": false,
    "nbgrader": {
     "cell_type": "markdown",
     "checksum": "5518864609f3e6cd724357e5f632b7f7",
     "grade": false,
     "grade_id": "cell-df52614fcc69c59b",
     "locked": true,
     "schema_version": 3,
     "solution": false,
     "task": false
    }
   },
   "source": [
    "<div class=\"alert alert-warning\">\n",
    "<b>QUESTION 7:</b>\n",
    "<p>Create a function called <code><b>encode</b></code> which takes a string as the argument. The input string is a combination of lower-case letters <code>a</code> to <code>z</code> (\"abcdefghijklmnopqrstuvwxyz\"). The function encodes the letters to numbers by their positions in the alphabet, for example <code>a</code> to <code>1</code>, <code>b</code> to <code>2</code>,..., <code>z</code> to <code>26</code>. And returns a <b>string</b> that follows this pattern: <code>\"[encoded_first_letter][blank_space][encoded_second_letter][blank_space]...[encoded_Nth_letter]\"</code>.</p>\n",
    "<p><b>DO NOT</b> use <code>ord</code> function.</p>\n",
    "<br>\n",
    "<p>Execute <code><b>encode(\"zip\")</b></code>, the expected output is <code>'26 9 16'</code>.</p>\n",
    "<p>Execute <code><b>encode(\"letter\")</b></code>, the expected output is <code>'12 5 20 20 5 18'</code>.</p>\n",
    "<p>Execute <code><b>encode(\"abc\")</b></code>, the expected output is <code>'1 2 3'</code>.</p>\n",
    "</div>"
   ]
  },
  {
   "cell_type": "code",
   "execution_count": 17,
   "metadata": {
    "deletable": false,
    "nbgrader": {
     "cell_type": "code",
     "checksum": "04d493b0499a0570949704d2dd6482d8",
     "grade": false,
     "grade_id": "cell-144a8be19d309bc8",
     "locked": false,
     "schema_version": 3,
     "solution": true,
     "task": false
    }
   },
   "outputs": [
    {
     "name": "stdout",
     "output_type": "stream",
     "text": [
      "26 9 16\n",
      "12 5 20 20 5 18\n",
      "1 2 3\n"
     ]
    }
   ],
   "source": [
    "###ANSWER(7).\n",
    "# Write your code here.\n",
    "def encode(subject: str):\n",
    "    alphabet = \"abcdefghijklmnopqrstuvwxyz\"\n",
    "    alphabet_dict = {letter: str(index + 1) for index, letter in enumerate(alphabet)}\n",
    "    return \" \".join([alphabet_dict[letter] for letter in subject])\n",
    "\n",
    "print(encode(\"zip\"))\n",
    "print(encode(\"letter\"))\n",
    "print(encode(\"abc\"))\n"
   ]
  },
  {
   "cell_type": "code",
   "execution_count": null,
   "metadata": {
    "deletable": false,
    "editable": false,
    "nbgrader": {
     "cell_type": "code",
     "checksum": "3ea005c34a913446b84c85d732359721",
     "grade": true,
     "grade_id": "cell-8bade8ff867c627e",
     "locked": true,
     "points": 10,
     "schema_version": 3,
     "solution": false,
     "task": false
    }
   },
   "outputs": [],
   "source": [
    "#Please leave this cell blank."
   ]
  },
  {
   "cell_type": "markdown",
   "metadata": {
    "deletable": false,
    "editable": false,
    "nbgrader": {
     "cell_type": "markdown",
     "checksum": "7ee40442a09cd37a956a40f1e9102d4a",
     "grade": false,
     "grade_id": "cell-373b374a4b5619a3",
     "locked": true,
     "schema_version": 3,
     "solution": false,
     "task": false
    }
   },
   "source": [
    "<div class=\"alert alert-warning\">\n",
    "<b>QUESTION 8:</b>\n",
    "<p>Module grades for students are recorded in the format of a dictionary. An example of defining a such dictionary is shown below. </p> \n",
    "    \n",
    "```python\n",
    "score_dict = {'Amy':{'Programming': 56.7, 'Business': 72.3, 'Statistics': 42.2, 'Marketing': 35.5},\n",
    "              'Ben':{'Programming': 30.3, 'Business': 45.7, 'Statistics': 64.9, 'Marketing': 64.2}, \n",
    "              'Jane':{'Programming': 56.4, 'Business': 54.1, 'Statistics': 51.9, 'Marketing': 33.4}, \n",
    "              'Mike':{'Programming': 42.3, 'Business': 37.5, 'Statistics': 61.7, 'Marketing': 51.4}}\n",
    "```\n",
    "    \n",
    "<p>Create a function called <code>score_check</code> which takes the student's name and the grades dictionary as the arguments. The function calculates the average score (round to <b>the second decimal place</b>) for the student. If the average score is greater than or equal to 50, the function <b>prints</b> a string following this pattern: <code>'[student_name] has passed this semester. The average score for [student_name] is [average_score].'</code>, otherwise the function <b>prints</b> <code>'[student_name] has failed this semester. The average score for [student_name] is [average_score].'</code>.</p>\n",
    "<br>\n",
    "<p>With the dictionary defined as the exmaple, execute <code><b>score_check('Ben', score_dict)</b></code>, the expected output is shown below.</p>\n",
    "    \n",
    "```\n",
    "Ben has passed this semester. The average score for Ben is 51.28.\n",
    "```\n",
    "   \n",
    "<p>With the dictionary defined as the exmaple, execute <code><b>score_check('Jane', score_dict)</b></code>, the expected output is shown below.</p>\n",
    "    \n",
    "```\n",
    "Jane has failed this semester. The average score for Jane is 48.95.\n",
    "```\n",
    "</div>"
   ]
  },
  {
   "cell_type": "code",
   "execution_count": 11,
   "metadata": {
    "deletable": false,
    "nbgrader": {
     "cell_type": "code",
     "checksum": "4eedd2ea1af63a83f7538bf33097393a",
     "grade": false,
     "grade_id": "cell-3b93c38be6ff0779",
     "locked": false,
     "schema_version": 3,
     "solution": true,
     "task": false
    }
   },
   "outputs": [
    {
     "name": "stdout",
     "output_type": "stream",
     "text": [
      "Ben has passed this semester. The average score for Ben is 51.28.\n"
     ]
    }
   ],
   "source": [
    "###ANSWER(8). \n",
    "# Write your code here.\n",
    "def score_check(student_name: str, scores_dict: dict):\n",
    "    total = 0\n",
    "    subjects_count = 0\n",
    "    scores = scores_dict[student_name]\n",
    "\n",
    "    for subject, grade in scores.items():\n",
    "        total += grade\n",
    "        subjects_count += 1\n",
    "\n",
    "    average_score = round(total / subjects_count, 2)\n",
    "\n",
    "    if average_score >= 50:\n",
    "        print(f'{student_name} has passed this semester. The average score for {student_name} is {average_score}.')\n",
    "    else:\n",
    "        print(f'{student_name} has failed this semester. The average score for {student_name} is {average_score}.')\n",
    "\n",
    "\n",
    "# Run checks\n",
    "score_dict = {'Amy':{'Programming': 56.7, 'Business': 72.3, 'Statistics': 42.2, 'Marketing': 35.5},\n",
    "              'Ben':{'Programming': 30.3, 'Business': 45.7, 'Statistics': 64.9, 'Marketing': 64.2}, \n",
    "              'Jane':{'Programming': 56.4, 'Business': 54.1, 'Statistics': 51.9, 'Marketing': 33.4}, \n",
    "              'Mike':{'Programming': 42.3, 'Business': 37.5, 'Statistics': 61.7, 'Marketing': 51.4}}\n",
    "score_check('Ben', score_dict)"
   ]
  },
  {
   "cell_type": "code",
   "execution_count": null,
   "metadata": {
    "deletable": false,
    "editable": false,
    "nbgrader": {
     "cell_type": "code",
     "checksum": "c3ebefba4d411f9a1672136c8f6b3fcc",
     "grade": true,
     "grade_id": "cell-f28a664b488948d6",
     "locked": true,
     "points": 10,
     "schema_version": 3,
     "solution": false,
     "task": false
    }
   },
   "outputs": [],
   "source": [
    "#Please leave this cell blank."
   ]
  },
  {
   "cell_type": "markdown",
   "metadata": {
    "deletable": false,
    "editable": false,
    "nbgrader": {
     "cell_type": "markdown",
     "checksum": "8e4e018cfe8b9aa6d0776a1e23770628",
     "grade": false,
     "grade_id": "cell-b57915c5b8f587f9",
     "locked": true,
     "schema_version": 3,
     "solution": false,
     "task": false
    }
   },
   "source": [
    "<div class=\"alert alert-warning\">\n",
    "<b>QUESTION 9:</b>\n",
    "<p>Create a function called <code>occ_dict</code> which takes a string as the argument. The string only contains letters and/or blank spaces. The function returns a dictionary where the keys are the unique letters (ignoring the case) in the string and values are the number of occurrences of the corresponding letters. Make sure the keys of the returned dictionary (lower-case letters) are sorted in alphabetical order.</p>\n",
    "<br>\n",
    "<p>Execute <code><b>occ_dict('bE  Aaeb Aq')</b></code>, the expected output is <code>{'a': 3, 'b': 2, 'e': 2, 'q': 1}</code>.</p> \n",
    "<p>Execute <code><b>occ_dict('This is a good Day')</b></code>, the expected output is <code>{'a': 2, 'd': 2, 'g': 1, 'h': 1, 'i': 2, 'o': 2, 's': 2, 't': 1, 'y': 1}</code>.</p> \n",
    "</div>"
   ]
  },
  {
   "cell_type": "code",
   "execution_count": null,
   "metadata": {
    "deletable": false,
    "nbgrader": {
     "cell_type": "code",
     "checksum": "44143decbc01bfefb61eadd2a667fb2f",
     "grade": false,
     "grade_id": "cell-3bb9e322fd0493f0",
     "locked": false,
     "schema_version": 3,
     "solution": true,
     "task": false
    }
   },
   "outputs": [],
   "source": [
    "###ANSWER (9). \n",
    "# Write your code here.\n",
    "def occ_dict(s):\n",
    "    \n"
   ]
  },
  {
   "cell_type": "code",
   "execution_count": null,
   "metadata": {
    "deletable": false,
    "editable": false,
    "nbgrader": {
     "cell_type": "code",
     "checksum": "24b9ac73fb28474406f0f9d3fddfdf80",
     "grade": true,
     "grade_id": "cell-55aee45c534c710b",
     "locked": true,
     "points": 10,
     "schema_version": 3,
     "solution": false,
     "task": false
    }
   },
   "outputs": [],
   "source": [
    "#Please leave this cell blank."
   ]
  },
  {
   "cell_type": "markdown",
   "metadata": {
    "deletable": false,
    "editable": false,
    "nbgrader": {
     "cell_type": "markdown",
     "checksum": "873f3c8164c84809113f5397e7aec431",
     "grade": false,
     "grade_id": "cell-d36ecabfb2057dc5",
     "locked": true,
     "schema_version": 3,
     "solution": false,
     "task": false
    }
   },
   "source": [
    "<div class=\"alert alert-warning\">\n",
    "<b>QUESTION 10:</b>\n",
    "<p>The scores of people playing a game are recorded in the form of a list. For example, list <code>[3,1,5]</code> means that there are 3 players, the score for the first player is 3, the score for the second player is 1 and the score for the third player is 5.</p> \n",
    "<p>We need to award gifts to the players. Each player must have at least one gift and those players with higher scores get at least 1 more gift than their neighboring players. For example, if the score list is <code>[3,1,5]</code>, the minimum number of gifts we need to award is 5 as 2 gifts go to the first player, 1 gift goes to the second player and 2 gifts go to the third player.</p> \n",
    "<p>Create a function called <code><b>gifts_min</b></code> which takes a list of scores as the argument. The function returns the minimum number of gifts that need to be awarded.</p> \n",
    "<br>\n",
    "<p>Execute <code><b>gifts_min([5])</b></code>, the expected output is <code>1</code>.</p>\n",
    "<p>Execute <code><b>gifts_min([1,1,1])</b></code>, the expected output is <code>3</code>. Everyone gets 1 gift. </p>\n",
    "<p>Execute <code><b>gifts_min([3,1,5])</b></code>, the expected output is <code>5</code>. The second player gets 1 gift and the other two players get 2 gifts each.</p>\n",
    "<p>Execute <code><b>gifts_min([1,3,5])</b></code>, the expected output is <code>6</code>. The first player gets 1 gift, the second player gets 2 gifts and the third player gets 3 gifts.</p> \n",
    "</div>"
   ]
  },
  {
   "cell_type": "code",
   "execution_count": null,
   "metadata": {
    "deletable": false,
    "nbgrader": {
     "cell_type": "code",
     "checksum": "6852479d5034e2ef2c83b58289a0c1f8",
     "grade": false,
     "grade_id": "cell-84aab1c00e3f2dc6",
     "locked": false,
     "schema_version": 3,
     "solution": true,
     "task": false
    }
   },
   "outputs": [],
   "source": [
    "###ANSWER(10).\n",
    "# Write your code here.\n",
    "def gifts_min\n"
   ]
  },
  {
   "cell_type": "code",
   "execution_count": null,
   "metadata": {
    "deletable": false,
    "editable": false,
    "nbgrader": {
     "cell_type": "code",
     "checksum": "22e5fbcbbddfebc002d7900b1332a4ac",
     "grade": true,
     "grade_id": "cell-564d11da9b18775c",
     "locked": true,
     "points": 10,
     "schema_version": 3,
     "solution": false,
     "task": false
    }
   },
   "outputs": [],
   "source": [
    "#Please leave this cell blank."
   ]
  }
 ],
 "metadata": {
  "kernelspec": {
   "display_name": "Python 3 (ipykernel)",
   "language": "python",
   "name": "python3"
  },
  "language_info": {
   "codemirror_mode": {
    "name": "ipython",
    "version": 3
   },
   "file_extension": ".py",
   "mimetype": "text/x-python",
   "name": "python",
   "nbconvert_exporter": "python",
   "pygments_lexer": "ipython3",
   "version": "3.9.7"
  }
 },
 "nbformat": 4,
 "nbformat_minor": 4
}
