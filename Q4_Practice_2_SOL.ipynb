{
 "cells": [
  {
   "cell_type": "markdown",
   "metadata": {
    "nbgrader": {
     "grade": false,
     "grade_id": "cell-84196092f0c3e9f6",
     "locked": true,
     "schema_version": 3,
     "solution": false,
     "task": false
    }
   },
   "source": [
    "<div class=\"image\">\n",
    "\n",
    "  <img style=\"float: right;\" src=\"https://dx5i3n065oxey.cloudfront.net/platform/4186/assets/logo.png?v=2e76f927-9482-4bfb-9092-d9a0b595cd2c\" width=\"45%\" align=\"right\">\n",
    "      <h4>\n",
    "          <p style=\"font-size:20pt\">Programming for Business Analytics</p>\n",
    "          <p style=\"font-size:15pt\">Q4 Practice 2</p>\n",
    "      </h4>\n",
    "</div>\n",
    "\n",
    "- Make sure you have executed the code in the cell below.\n",
    "- Make sure you read the questions carefully and follow the instructions.\n",
    "- Make sure you put the answers in the Answer cells.\n",
    "- Please do not put your answers in comments (after #).\n",
    "- Please do not add any new cells between the Question and Answer cells.\n",
    "- Please do not change the names of the variables in Answer cells.\n",
    "- Please do not assign the expected result directly to the variable."
   ]
  },
  {
   "cell_type": "code",
   "execution_count": null,
   "metadata": {
    "nbgrader": {
     "grade": false,
     "grade_id": "cell-64e8e5708af9cf19",
     "locked": true,
     "schema_version": 3,
     "solution": false,
     "task": false
    }
   },
   "outputs": [],
   "source": [
    "#Please make sure your Jupyter Notebook environment is running a Python 3 kernel \n",
    "import IPython\n",
    "assert IPython.version_info[0] >= 3, \"Your version of IPython is too old, please update it.\"\n",
    "%autosave 120"
   ]
  },
  {
   "cell_type": "markdown",
   "metadata": {
    "nbgrader": {
     "grade": false,
     "grade_id": "cell-9b0c25976a159dcf",
     "locked": true,
     "schema_version": 3,
     "solution": false,
     "task": false
    }
   },
   "source": [
    "<div class=\"alert alert-warning\">\n",
    "<b>QUESTION 1:</b>\n",
    "<p>Which one of the following statements is <b>wrong</b>?</p>\n",
    "<p> a) Sets can't be indexed.</p>\n",
    "<p> b) The <code>enumerate</code> function can have more than one input argument. </p>\n",
    "<p> c) Tuples can't be used as keys to dictionaries.</p>\n",
    "<p> d) Lists can't be used as keys to dictionaries.</p>\n",
    "</div>"
   ]
  },
  {
   "cell_type": "code",
   "execution_count": null,
   "metadata": {
    "nbgrader": {
     "grade": false,
     "grade_id": "cell-a6408ffacf7cba92",
     "locked": false,
     "schema_version": 3,
     "solution": true,
     "task": false
    }
   },
   "outputs": [],
   "source": [
    "###ANSWER(1). Please assign the letter representing the correct answer to the variable \n",
    "### (write it down between the \"\")\n",
    "answer_1 = \"c\""
   ]
  },
  {
   "cell_type": "code",
   "execution_count": null,
   "metadata": {
    "nbgrader": {
     "grade": true,
     "grade_id": "cell-65f303e196fa2c0f",
     "locked": true,
     "points": 10,
     "schema_version": 3,
     "solution": false,
     "task": false
    }
   },
   "outputs": [],
   "source": [
    "#Please leave this cell blank."
   ]
  },
  {
   "cell_type": "markdown",
   "metadata": {
    "nbgrader": {
     "grade": false,
     "grade_id": "cell-6ba6d810c65145e7",
     "locked": true,
     "schema_version": 3,
     "solution": false,
     "task": false
    }
   },
   "source": [
    "<div class=\"alert alert-warning\">\n",
    "<b>QUESTION 2:</b>\n",
    "<p>Some codes have been given in the cell below.</p>\n",
    "\n",
    "```python\n",
    "acc_list = [72.845, 88.266, 62.393]\n",
    "msg = \"The accuracy scores of the 3 models are {____}%, {____}% and {____}%.\".format(\n",
    "    acc_list[0], acc_list[1], acc_list[2])\n",
    "print(msg)\n",
    "```\n",
    "    \n",
    "<p>Complete the code of <code>msg</code> so that when printing it, the output is: <code>The accuracy scores of the 3 models are 88.3%, 72.8% and 62.4%.</code> </p>\n",
    "    \n",
    "</div>"
   ]
  },
  {
   "cell_type": "code",
   "execution_count": 4,
   "metadata": {
    "nbgrader": {
     "grade": false,
     "grade_id": "cell-e408866af2c30ae8",
     "locked": false,
     "schema_version": 3,
     "solution": true,
     "task": false
    }
   },
   "outputs": [
    {
     "ename": "KeyError",
     "evalue": "'acc_list'",
     "output_type": "error",
     "traceback": [
      "\u001b[0;31m---------------------------------------------------------------------------\u001b[0m",
      "\u001b[0;31mKeyError\u001b[0m                                  Traceback (most recent call last)",
      "\u001b[0;32m/var/folders/_4/zvrb902564972kvcq0mnj6th0000gn/T/ipykernel_1374/1411817831.py\u001b[0m in \u001b[0;36m<module>\u001b[0;34m\u001b[0m\n\u001b[1;32m      1\u001b[0m \u001b[0;31m###ANSWER(2)\u001b[0m\u001b[0;34m\u001b[0m\u001b[0;34m\u001b[0m\u001b[0m\n\u001b[1;32m      2\u001b[0m \u001b[0macc_list\u001b[0m \u001b[0;34m=\u001b[0m \u001b[0;34m[\u001b[0m\u001b[0;36m72.845\u001b[0m\u001b[0;34m,\u001b[0m \u001b[0;36m88.266\u001b[0m\u001b[0;34m,\u001b[0m \u001b[0;36m62.393\u001b[0m\u001b[0;34m]\u001b[0m\u001b[0;34m\u001b[0m\u001b[0;34m\u001b[0m\u001b[0m\n\u001b[0;32m----> 3\u001b[0;31m \u001b[0mmsg\u001b[0m \u001b[0;34m=\u001b[0m \u001b[0;34m\"The accuracy scores of the 3 models are {acc_list:.1f}%, {acc_list:.1f}% and {acc_list:.1f}%\"\u001b[0m\u001b[0;34m.\u001b[0m\u001b[0mformat\u001b[0m\u001b[0;34m(\u001b[0m\u001b[0macc_list\u001b[0m\u001b[0;34m[\u001b[0m\u001b[0;36m0\u001b[0m\u001b[0;34m]\u001b[0m\u001b[0;34m,\u001b[0m \u001b[0macc_list\u001b[0m\u001b[0;34m[\u001b[0m\u001b[0;36m1\u001b[0m\u001b[0;34m]\u001b[0m\u001b[0;34m,\u001b[0m \u001b[0macc_list\u001b[0m\u001b[0;34m[\u001b[0m\u001b[0;36m2\u001b[0m\u001b[0;34m]\u001b[0m\u001b[0;34m)\u001b[0m\u001b[0;34m\u001b[0m\u001b[0;34m\u001b[0m\u001b[0m\n\u001b[0m\u001b[1;32m      4\u001b[0m \u001b[0mprint\u001b[0m\u001b[0;34m(\u001b[0m\u001b[0mmsg\u001b[0m\u001b[0;34m)\u001b[0m\u001b[0;34m\u001b[0m\u001b[0;34m\u001b[0m\u001b[0m\n",
      "\u001b[0;31mKeyError\u001b[0m: 'acc_list'"
     ]
    }
   ],
   "source": [
    "###ANSWER(2)\n",
    "acc_list = [72.845, 88.266, 62.393]\n",
    "msg = \"The accuracy scores of the 3 models are {acc_list:.1f}%, {acc_list:.1f}% and {acc_list:.1f}%\".format(acc_list[0], acc_list[1], acc_list[2])\n",
    "print(msg)"
   ]
  },
  {
   "cell_type": "code",
   "execution_count": null,
   "metadata": {
    "nbgrader": {
     "grade": true,
     "grade_id": "cell-839e1e4003488018",
     "locked": true,
     "points": 10,
     "schema_version": 3,
     "solution": false,
     "task": false
    }
   },
   "outputs": [],
   "source": [
    "#Please leave this cell blank."
   ]
  },
  {
   "cell_type": "markdown",
   "metadata": {
    "nbgrader": {
     "grade": false,
     "grade_id": "cell-3b929a56807eb73c",
     "locked": true,
     "schema_version": 3,
     "solution": false,
     "task": false
    }
   },
   "source": [
    "<div class=\"alert alert-warning\">\n",
    "<b>QUESTION 3:</b>\n",
    "<p>Two sets have been defined in the cell below.</p>\n",
    "\n",
    "```python\n",
    "set_1 = {1,2,3,5,7,8}\n",
    "set_2 = {2,4,5,6,8,9}\n",
    "```\n",
    "    \n",
    "<p> Find items in <code>set_2</code> but not in <code>set_1</code> and assign the value to the variable <code>set_3</code>. Print <code>set_3</code>, the expected output is <code>{4, 6, 9}</code>.</p>\n",
    "<br>    \n",
    "<p>Please don't write <code>set_3 = {4, 6, 9}</code></p>\n",
    "</div>"
   ]
  },
  {
   "cell_type": "code",
   "execution_count": 3,
   "metadata": {
    "nbgrader": {
     "grade": false,
     "grade_id": "cell-d923a9117c1b5fc1",
     "locked": false,
     "schema_version": 3,
     "solution": true,
     "task": false
    }
   },
   "outputs": [
    {
     "name": "stdout",
     "output_type": "stream",
     "text": [
      "{9, 4, 6}\n"
     ]
    }
   ],
   "source": [
    "###ANSWER(3)\n",
    "set_1 = {1,2,3,5,7,8}\n",
    "set_2 = {2,4,5,6,8,9}\n",
    "set_3 = set_2-set_1\n",
    "print(set_3)"
   ]
  },
  {
   "cell_type": "code",
   "execution_count": null,
   "metadata": {
    "nbgrader": {
     "grade": true,
     "grade_id": "cell-dd486109f59e4560",
     "locked": true,
     "points": 10,
     "schema_version": 3,
     "solution": false,
     "task": false
    }
   },
   "outputs": [],
   "source": [
    "#Please leave this cell blank."
   ]
  },
  {
   "cell_type": "markdown",
   "metadata": {
    "nbgrader": {
     "grade": false,
     "grade_id": "cell-35dcba2d1595eb29",
     "locked": true,
     "schema_version": 3,
     "solution": false,
     "task": false
    }
   },
   "source": [
    "<div class=\"alert alert-warning\">\n",
    "<b>QUESTION 4:</b>\n",
    "<p>A tuple called <code>letters</code> has been defined in the cell below. </p>\n",
    "    \n",
    "```python\n",
    "letters = ('a', 'b', 'a', 'c', 'c', 'a', 'd', 'b', 'e', 'f', 'f', 'b', 'c', 'a', 'e', 'e', 'a', 'b', 'a', \n",
    "           'f', 'g', 'd', 'g', 'f', 'c', 'e', 'e', 'd', 'c', 'e', 'b', 'b', 'a', 'a', 'f', 'a', 'c', \n",
    "           'g', 'e', 'e', 'c', 'a', 'b', 'c', 'd', 'e', 'f', 'd', 'g', 'b', 'c', 'd', 'f', 'g', 'b', \n",
    "           'c', 'b', 'a', 'g', 'a')\n",
    "```\n",
    "    \n",
    "<p>Write code to find the element in <code>letters</code> and the number of occurrence of it and assign the value to a new dictionary called <code>count_dict</code>. Print <code>count_dict</code>, the expected output is <code>{'a': 12, 'b': 10, 'c': 10, 'd': 6, 'e': 9, 'f': 7, 'g': 6}</code>.</p>\n",
    "\n",
    "<br>    \n",
    "<p>Please don't write <code>count_dict = {'a': 12, 'b': 10, 'c': 10, 'd': 6, 'e': 9, 'f': 7, 'g': 6}</code></p>\n",
    "</div>"
   ]
  },
  {
   "cell_type": "code",
   "execution_count": null,
   "metadata": {
    "nbgrader": {
     "grade": false,
     "grade_id": "cell-6866cff53340e561",
     "locked": false,
     "schema_version": 3,
     "solution": true,
     "task": false
    }
   },
   "outputs": [],
   "source": [
    "###ANSWER(4)\n",
    "letters = ('a', 'b', 'a', 'c', 'c', 'a', 'd', 'b', 'e', 'f', 'f', 'b', 'c', 'a', 'e', 'e', 'a', 'b', 'a', \n",
    "           'f', 'g', 'd', 'g', 'f', 'c', 'e', 'e', 'd', 'c', 'e', 'b', 'b', 'a', 'a', 'f', 'a', 'c', \n",
    "           'g', 'e', 'e', 'c', 'a', 'b', 'c', 'd', 'e', 'f', 'd', 'g', 'b', 'c', 'd', 'f', 'g', 'b', \n",
    "           'c', 'b', 'a', 'g', 'a')\n",
    "count_dict = dict([(element, letters.count(element)) for element in letters])\n",
    "print(count_dict)"
   ]
  },
  {
   "cell_type": "code",
   "execution_count": null,
   "metadata": {
    "nbgrader": {
     "grade": true,
     "grade_id": "cell-d4ac964a97b3192f",
     "locked": true,
     "points": 10,
     "schema_version": 3,
     "solution": false,
     "task": false
    }
   },
   "outputs": [],
   "source": [
    "#Please leave this cell blank."
   ]
  },
  {
   "cell_type": "markdown",
   "metadata": {
    "nbgrader": {
     "grade": false,
     "grade_id": "cell-be587cee1f4fa943",
     "locked": true,
     "schema_version": 3,
     "solution": false,
     "task": false
    }
   },
   "source": [
    "<div class=\"alert alert-warning\">\n",
    "<b>QUESTION 5: </b> \n",
    "<p>A list called <code>token_list</code> has been defined in the cell below. </p>\n",
    "\n",
    "```python\n",
    "token_list = ['transformer ', ' models  ', ' are ', '  great ', '   in', 'NLP']    \n",
    "```\n",
    "    \n",
    "<p>For each element in the list, remove spaces (if any) at the beginning and the end of it and assign the value to the variable <code>answer_5</code>. Print <code>answer_5</code>, the expected output would be: <code>['transformer', 'models', 'are', 'great', 'in', 'NLP']</code>.</p>\n",
    "<br>    \n",
    "<p>Please don't write <code>answer_5 = ['transformer', 'models', 'are', 'great', 'in', 'NLP']</code></p>\n",
    "</div>"
   ]
  },
  {
   "cell_type": "code",
   "execution_count": 6,
   "metadata": {
    "nbgrader": {
     "grade": false,
     "grade_id": "cell-c9f7c06cf529bb59",
     "locked": false,
     "schema_version": 3,
     "solution": true,
     "task": false
    }
   },
   "outputs": [
    {
     "name": "stdout",
     "output_type": "stream",
     "text": [
      "['transformer', 'models', 'are', 'great', 'in', 'NLP']\n"
     ]
    }
   ],
   "source": [
    "###ANSWER(5)\n",
    "token_list = ['transformer ', ' models  ', ' are ', '  great ', '   in', 'NLP']\n",
    "answer_5 = [i.strip() for i in token_list]\n",
    "print(answer_5)"
   ]
  },
  {
   "cell_type": "code",
   "execution_count": null,
   "metadata": {
    "nbgrader": {
     "grade": true,
     "grade_id": "cell-03398ec7d80e0f18",
     "locked": true,
     "points": 10,
     "schema_version": 3,
     "solution": false,
     "task": false
    }
   },
   "outputs": [],
   "source": [
    "#Please leave this cell blank."
   ]
  },
  {
   "cell_type": "markdown",
   "metadata": {
    "nbgrader": {
     "grade": false,
     "grade_id": "cell-f85a93cef0f6b09f",
     "locked": true,
     "schema_version": 3,
     "solution": false,
     "task": false
    }
   },
   "source": [
    "<div class=\"alert alert-warning\">\n",
    "<b>QUESTION 6: </b> \n",
    "<p>A string has been defined in the cell below. </p>\n",
    "    \n",
    "```python\n",
    "quote_bruce = 'Knowledge, will ,give, you ,power, but ,character, respect'    \n",
    "```\n",
    "\n",
    "<p>Use <b>String methods</b> to turn it into a list and assign the result to the variable <code>word_list</code>. Print <code>word_list</code>, the expected output is shown as below.\n",
    "    \n",
    "```\n",
    "['Knowledge', 'will', 'give', 'you', 'power', 'but', 'character', 'respect']\n",
    "```\n",
    "<br>    \n",
    "<p>Please don't write <code>word_list = ['Knowledge', 'will', 'give', 'you', 'power', 'but', 'character', 'respect']</code></p>\n",
    "</div>"
   ]
  },
  {
   "cell_type": "code",
   "execution_count": 5,
   "metadata": {
    "nbgrader": {
     "grade": false,
     "grade_id": "cell-f1b06b79c66c2f2e",
     "locked": false,
     "schema_version": 3,
     "solution": true,
     "task": false
    },
    "scrolled": true
   },
   "outputs": [
    {
     "name": "stdout",
     "output_type": "stream",
     "text": [
      "['Knowledge', 'will', 'give', 'you', 'power', 'but', 'character', 'respect']\n"
     ]
    }
   ],
   "source": [
    "###ANSWER(6)\n",
    "quote_bruce = 'Knowledge, will ,give, you ,power, but ,character, respect'\n",
    "word_list = quote_bruce.replace(' ','').split(',')\n",
    "print(word_list)"
   ]
  },
  {
   "cell_type": "code",
   "execution_count": null,
   "metadata": {
    "nbgrader": {
     "grade": true,
     "grade_id": "cell-82e069ee59f55ca9",
     "locked": true,
     "points": 10,
     "schema_version": 3,
     "solution": false,
     "task": false
    }
   },
   "outputs": [],
   "source": [
    "#Please leave this cell blank."
   ]
  },
  {
   "cell_type": "markdown",
   "metadata": {
    "nbgrader": {
     "grade": false,
     "grade_id": "cell-dffc1a05550125f1",
     "locked": true,
     "schema_version": 3,
     "solution": false,
     "task": false
    }
   },
   "source": [
    "<div class=\"alert alert-warning\">\n",
    "<b>QUESTION 7: </b> \n",
    "<p>A dictionary has been defined in the cell below. </p>\n",
    "    \n",
    "```python\n",
    "age_dict = {'Tom':29, 'Olivia':35, 'Mia':25, 'Lucas':38, 'Sophia':35, 'Grace':48, 'Oliver':23}    \n",
    "```\n",
    "\n",
    "<p>Find the people in the dictionary whose age are within the range of 30 to 40 and assign the value to a set called <code>name_set</code>. Print <code>name_set</code>, the expected output would be: <code>{'Lucas', 'Olivia', 'Sophia'}</code>.</p>\n",
    "<br>    \n",
    "<p>Please don't write <code>name_set = {'Lucas', 'Olivia', 'Sophia'}</code></p>\n",
    "</div>"
   ]
  },
  {
   "cell_type": "code",
   "execution_count": null,
   "metadata": {
    "nbgrader": {
     "grade": false,
     "grade_id": "cell-cd36c1c9bb68b230",
     "locked": false,
     "schema_version": 3,
     "solution": true,
     "task": false
    }
   },
   "outputs": [],
   "source": [
    "###ANSWER(7)\n",
    "age_dict = {'Tom':29, 'Olivia':35, 'Mia':25, 'Lucas':38, 'Sophia':35, 'Grace':48, 'Oliver':23}\n",
    "name_set = set([i for i in age_dict.keys() if 30<age_dict[i]<40])\n",
    "print(name_set)"
   ]
  },
  {
   "cell_type": "code",
   "execution_count": null,
   "metadata": {
    "nbgrader": {
     "grade": true,
     "grade_id": "cell-68b1c8860e2e7d46",
     "locked": true,
     "points": 10,
     "schema_version": 3,
     "solution": false,
     "task": false
    }
   },
   "outputs": [],
   "source": [
    "#Please leave this cell blank."
   ]
  },
  {
   "cell_type": "markdown",
   "metadata": {
    "nbgrader": {
     "grade": false,
     "grade_id": "cell-5bdf06877a331dbd",
     "locked": true,
     "schema_version": 3,
     "solution": false,
     "task": false
    }
   },
   "source": [
    "<div class=\"alert alert-warning\">\n",
    "<b>QUESTION 8: </b> \n",
    "<p>Two dictionaries have been defined in the cell below. </p>\n",
    "\n",
    "```python\n",
    "original_price = {'A':160, 'C':150, 'D':120, 'F':100, 'G':90, 'H':80}\n",
    "discount = {'B':0.8, 'C':0.8, 'D':0.7, 'E':0.6, 'G':0.9, 'M':0.6}    \n",
    "```\n",
    "\n",
    "<p>Write <b>ONE LINE</b> of code to find the keys that are in both dictionaries and the multiplication of the corresponding values and assign the value to a new dictionary called <code>final_price</code>. Print <code>final_price</code>, the expected output would be:<code>{'C': 120.0, 'D': 84.0, 'G': 81.0}</code></p>\n",
    "<br>    \n",
    "<p>Please don't write <code>final_price = {'C': 120.0, 'D': 84.0, 'G': 81.0}</code></p>\n",
    "</div>"
   ]
  },
  {
   "cell_type": "code",
   "execution_count": 7,
   "metadata": {
    "nbgrader": {
     "grade": false,
     "grade_id": "cell-08c4dee2fc221571",
     "locked": false,
     "schema_version": 3,
     "solution": true,
     "task": false
    }
   },
   "outputs": [
    {
     "name": "stdout",
     "output_type": "stream",
     "text": [
      "{'C': 120.0, 'D': 84.0, 'G': 81.0}\n"
     ]
    }
   ],
   "source": [
    "###ANSWER(8)\n",
    "original_price = {'A':160, 'C':150, 'D':120, 'F':100, 'G':90, 'H':80}\n",
    "discount = {'B':0.8, 'C':0.8, 'D':0.7, 'E':0.6, 'G':0.9, 'M':0.6}\n",
    "final_price = {key:original_price[key]*discount[key] for key in original_price.keys() if key in discount}\n",
    "print(final_price)"
   ]
  },
  {
   "cell_type": "code",
   "execution_count": null,
   "metadata": {
    "nbgrader": {
     "grade": true,
     "grade_id": "cell-5febe8d0332ae08c",
     "locked": true,
     "points": 10,
     "schema_version": 3,
     "solution": false,
     "task": false
    }
   },
   "outputs": [],
   "source": [
    "#Please leave this cell blank."
   ]
  },
  {
   "cell_type": "markdown",
   "metadata": {
    "nbgrader": {
     "grade": false,
     "grade_id": "cell-83da49b782f1efaa",
     "locked": true,
     "schema_version": 3,
     "solution": false,
     "task": false
    }
   },
   "source": [
    "<div class=\"alert alert-warning\">\n",
    "<b>QUESTION 9: </b> \n",
    "<p> Define a function called <code>merge_dict</code> which takes two dictionaries with numbers being the values as the arguments. The function will merge the two input dictionaries and <b>return</b> the result. For items with common keys, the function would add the values together.</p>\n",
    "\n",
    "<br>\n",
    "<p>Execute <code><b>merge_dict({'a': 1, 'b': 2},{'c': 3})</b></code>, the expected output is <code>{'a': 1, 'b': 2, 'c': 3}</code>.</p>\n",
    "    <p>Execute <code><b>merge_dict({'a': 1, 'b': 2, 'c': 3},{'b': 1, 'c': 2, 'd': 3})</b></code>, the expected output is <code>{'a': 1, 'b': 3, 'c': 5, 'd': 3}</code>.</p>\n",
    "</div>"
   ]
  },
  {
   "cell_type": "code",
   "execution_count": null,
   "metadata": {
    "nbgrader": {
     "grade": false,
     "grade_id": "cell-d5ec26d58149123f",
     "locked": false,
     "schema_version": 3,
     "solution": true,
     "task": false
    }
   },
   "outputs": [],
   "source": [
    "###ANSWER(9)\n",
    "def merge_dict(dict_1, dict_2):\n",
    "    for key in dict_2.keys():\n",
    "        if key in dict_1:\n",
    "            dict_1[key] = dict_1[key] + dict_2[key]\n",
    "        else:\n",
    "            dict_1[key] = dict_2[key]\n",
    "    return dict_1   "
   ]
  },
  {
   "cell_type": "code",
   "execution_count": null,
   "metadata": {
    "nbgrader": {
     "grade": true,
     "grade_id": "cell-3f08e6296e9e4a93",
     "locked": true,
     "points": 10,
     "schema_version": 3,
     "solution": false,
     "task": false
    }
   },
   "outputs": [],
   "source": [
    "#Please leave this cell blank."
   ]
  },
  {
   "cell_type": "markdown",
   "metadata": {
    "nbgrader": {
     "grade": false,
     "grade_id": "cell-e0138d3c7d389f56",
     "locked": true,
     "schema_version": 3,
     "solution": false,
     "task": false
    }
   },
   "source": [
    "<div class=\"alert alert-warning\">\n",
    "<b>QUESTION 10: </b> \n",
    "<p>A list of text strings has been defined in the cell below. </p>\n",
    "    \n",
    "```python\n",
    "str_lst = ['Bryson', 'Milly', 'Aasiyah', 'Mason' ,'Cody', 'Astrid', 'Joshua', 'Mathew', 'Tyla']\n",
    "```\n",
    "    \n",
    "<p>Write <b>ONE LINE</b> of code to find the indices of the strings with lengths larger than 5 and assign the value to a new list named <code>idx_list</code>. Print <code>idx_list</code>, the expected output would be:<code>[0, 2, 5, 6, 7]</code>.</p>\n",
    "<br>    \n",
    "<p>Please don't write <code>idx_list = [0, 2, 5, 6, 7]</code></p>\n",
    "</div>"
   ]
  },
  {
   "cell_type": "code",
   "execution_count": null,
   "metadata": {
    "nbgrader": {
     "grade": false,
     "grade_id": "cell-6c31a3da7983e0bb",
     "locked": false,
     "schema_version": 3,
     "solution": true,
     "task": false
    }
   },
   "outputs": [],
   "source": [
    "###ANSWER(10)\n",
    "str_lst = ['Bryson', 'Milly', 'Aasiyah', 'Mason' ,'Cody', 'Astrid', 'Joshua', 'Mathew', 'Tyla']\n",
    "idx_list = [idx for idx, value in enumerate(str_lst) if len(value)>5]\n",
    "print(idx_list)"
   ]
  },
  {
   "cell_type": "code",
   "execution_count": null,
   "metadata": {
    "nbgrader": {
     "grade": true,
     "grade_id": "cell-1c7562fd68ec3725",
     "locked": true,
     "points": 10,
     "schema_version": 3,
     "solution": false,
     "task": false
    }
   },
   "outputs": [],
   "source": [
    "#Please leave this cell blank."
   ]
  }
 ],
 "metadata": {
  "kernelspec": {
   "display_name": "Python 3 (ipykernel)",
   "language": "python",
   "name": "python3"
  },
  "language_info": {
   "codemirror_mode": {
    "name": "ipython",
    "version": 3
   },
   "file_extension": ".py",
   "mimetype": "text/x-python",
   "name": "python",
   "nbconvert_exporter": "python",
   "pygments_lexer": "ipython3",
   "version": "3.9.7"
  }
 },
 "nbformat": 4,
 "nbformat_minor": 4
}
